import requests, pandas as pd, numpy as np, io





# Atlanta

# Manual Downloads
# http://opendata.atlantapd.org/Crimedata/Default.aspx


# Can't get the aspx scraper to work 

# from bs4 import BeautifulSoup

# url = 'http://opendata.atlantapd.org/Crimedata/Default.aspx'
# myobj = {'ctl00$MainContent$rblArea': 'CityWide',
#     'ctl00$MainContent$ddlMonth': 1,
#     'ctl00$MainContent$ddlYear': 2017,
#     'ctl00$MainContent$ddlCrimeType': 'AllCrime',
#     'ctl00$MainContent$btnSearch': 'Search'         
# }
# x = requests.post(url, data = myobj)
# soup = BeautifulSoup(x.content, 'html.parser')

# myobj = {
#     '__EVENTTARGET':None,
#     '__EVENTARGUMENT':None,
#     '__LASTFOCUS':None,
#     '__VIEWSTATE': soup.find(id="__VIEWSTATE")['value'],
#     '__VIEWSTATEGENERATOR': soup.find(id="__VIEWSTATEGENERATOR")['value'],
#     '__EVENTVALIDATION': soup.find(id="__EVENTVALIDATION")['value'],
#     'ctl00$MainContent$rblArea': 'CityWide',
#     'ctl00$MainContent$ddlMonth': 1,
#     'ctl00$MainContent$ddlYear': 2017,
#     'ctl00$MainContent$ddlCrimeType': 'AllCrime',
#     'ctl00$MainContent$btnDownload': 'Download CSV'         
# }

# x = requests.post(url, data = myobj)





# Austin

# https://dev.socrata.com/foundry/data.austintexas.gov/fdj4-gpfu
r = requests.get('https://data.austintexas.gov/resource/fdj4-gpfu.json?$limit=3000000')
j = r.json()
raw = pd.DataFrame(j)
raw.to_csv('raw/raw_incidents_austin.csv', index=False)





# Baltimore
# https://data.baltimorecity.gov/datasets/part1-crime-data?geometry=-85.882%2C37.108%2C-72.006%2C40.112
r = requests.get("https://opendata.arcgis.com/datasets/3eeb0a2cbae94b3e8549a8193717a9e1_0.csv?outSR=%7B%22latestWkid%22%3A2248%2C%22wkid%22%3A102685%7D")
s = r.content
raw = pd.read_csv(io.StringIO(s.decode('utf-8')))
raw.to_csv('raw/raw_incidents_baltimore.csv', index=False)


# # Baltimore

# # https://data.baltimorecity.gov/Public-Safety/BPD-Part-1-Victim-Based-Crime-Data/wsfq-mvij
# # r = requests.get("https://data.baltimorecity.gov/resource/wsfq-mvij.json?$where=crimedate>='2017-01-01T00:00:00'&$limit=3000000")
# j = r.json()
# raw = pd.DataFrame(j)
# raw.to_csv('raw/raw_incidents_baltimore.csv', index=False)





# Boston
# https://data.boston.gov/dataset/crime-incident-reports-august-2015-to-date-source-new-system
r = requests.get("https://data.boston.gov/dataset/6220d948-eae2-4e4b-8723-2dc8e67722a3/resource/12cb3883-56f5-47de-afa5-3b1cf61b257b/download/tmp_sdaa6vd.csv")
s = r.content
raw = pd.read_csv(io.StringIO(s.decode('utf-8')))
raw.to_csv('raw/raw_incidents_boston.csv', index=False)





# Chicago

# https://dev.socrata.com/foundry/data.cityofchicago.org/ijzp-q8t2
r = requests.get("https://data.cityofchicago.org/resource/crimes.json?$where=date>='2017-01-01T00:00:00'&$limit=3000000")
j = r.json()
raw = pd.DataFrame(j)
raw.to_csv('raw/raw_incidents_chicago.csv', index=False)





# Cincinnati

# Socrata Open Data API (SODA)
# https://data.cincinnati-oh.gov/Safety/PDI-Police-Data-Initiative-Crime-Incidents/k59e-2pvf
r = requests.get("https://data.cincinnati-oh.gov/resource/k59e-2pvf.json?$limit=3000000")
j = r.json()
raw = pd.DataFrame(j)
raw.to_csv('raw/raw_incidents_cincinnati.csv', index=False)





# Dallas

# https://www.dallasopendata.com/Public-Safety/Police-Incidents/qv6i-rri7
r = requests.get("https://www.dallasopendata.com/resource/qv6i-rri7.json?$where=servyr>=2017&$limit=3000000")
j = r.json()
raw = pd.DataFrame(j)
raw.to_csv('raw/raw_incidents_dallas.csv', index=False)





# Detroit
# https://data.detroitmi.gov/datasets/rms-crime-incidents
r = requests.get("https://opendata.arcgis.com/datasets/0825badfe6304620a998d162be0e135e_0.csv")
s = r.content
raw = pd.read_csv(io.StringIO(s.decode('utf-8')))
raw.to_csv('raw/raw_incidents_detroit.csv', index=False)





# Fort Worth

# https://data.fortworthtexas.gov/Public-Safety/Crime-Data/k6ic-7kp7
r = requests.get("https://data.fortworthtexas.gov/resource/k6ic-7kp7.json?$where=from_date>='2017-01-01T00:00:00'&$limit=3000000")
j = r.json()
raw = pd.DataFrame(j)
raw.to_csv('raw/raw_incidents_fort_worth.csv', index=False)





# Los Angeles

# 2020
# https://dev.socrata.com/foundry/data.lacity.org/2nrs-mtv8
r1 = requests.get('https://data.lacity.org/resource/2nrs-mtv8.json?$limit=3000000')
j1 = r1.json()
df1 = pd.DataFrame(j1)

# 2010 - 2019
# https://dev.socrata.com/foundry/data.lacity.org/63jg-8b9z
r2 = requests.get('https://data.lacity.org/resource/63jg-8b9z.json?$where=date_occ>"2017-01-01T00:00:00.000"&$limit=3000000')
j2 = r2.json()
df2 = pd.DataFrame(j2)

raw = pd.concat([df1, df2], sort=True)
raw.to_csv('raw/raw_incidents_los_angeles.csv', index=False)











# Milwaukee

# Historical
# https://data.milwaukee.gov/dataset/wibrarchive
r1 = requests.get("https://data.milwaukee.gov/dataset/5a537f5c-10d7-40a2-9b93-3527a4c89fbd/resource/395db729-a30a-4e53-ab66-faeb5e1899c8/download/wibrarchive.csv")
s1 = r1.content

# Current
# https://data.milwaukee.gov/dataset/wibr 
r2 = requests.get("https://data.milwaukee.gov/dataset/e5feaad3-ee73-418c-b65d-ef810c199390/resource/87843297-a6fa-46d4-ba5d-cb342fb2d3bb/download/wibr.csv")
s2 = r2.content

raw = pd.concat([pd.read_csv(io.StringIO(s1.decode('utf-8'))), pd.read_csv(io.StringIO(s2.decode('utf-8')))], sort=True)
raw.to_csv('raw/raw_incidents_milwaukee.csv', index=False)





# New York City

# 2020
# https://dev.socrata.com/foundry/data.cityofnewyork.us/5uac-w243
r1 = requests.get('https://data.cityofnewyork.us/resource/5uac-w243.json?$limit=3000000')
j1 = r1.json()
df1 = pd.DataFrame(j1)
df1 = df1.drop(
    [':@computed_region_92fq_4b7q',
     ':@computed_region_efsh_h5xi',
     ':@computed_region_f5dn_yrer',
     ':@computed_region_sbqj_enih',
     ':@computed_region_yeji_bk3q'], axis=1)

# 2006 - 2019
# https://dev.socrata.com/foundry/data.cityofnewyork.us/qgea-i56i
r2 = requests.get('https://data.cityofnewyork.us/resource/qgea-i56i.json?$where=cmplnt_fr_dt>"2017-01-01T00:00:00.000"&$limit=3000000')
j2 = r2.json()
df2 = pd.DataFrame(j2)
df2 = df2.drop(['transit_district','station_name'], axis=1)

raw = pd.concat([df1, df2], sort=True)
raw.to_csv('raw/raw_incidents_new_york_city.csv', index=False)





# Philadelphia Raw Incidents
# https://www.opendataphilly.org/dataset/crime-incidents
r = requests.get('https://phl.carto.com/api/v2/sql?q=SELECT * FROM incidents_part1_part2')
j = r.json()
raw = pd.DataFrame(j['rows'])
raw.to_csv('raw/raw_incidents_philadelphia.csv', index=False)





import io

# Phoenix

# https://www.phoenixopendata.com/dataset/crime-data/resource/0ce3411a-2fc6-4302-a33f-167f68608a20
url = 'https://www.phoenixopendata.com/dataset/cc08aace-9ca9-467f-b6c1-f0879ab1a358/resource/0ce3411a-2fc6-4302-a33f-167f68608a20/download/crimestat.csv'
r = requests.get(url)
s = r.content
raw = pd.read_csv(io.StringIO(s.decode('utf-8')))
raw.to_csv('raw/raw_incidents_phoenix.csv', index=False)





# Manual





# San Francisco

# Socrata Open Data API (SODA)
# https://data.sfgov.org/Public-Safety/Police-Department-Incident-Reports-2018-to-Present/wg3w-h783
r = requests.get("https://data.sfgov.org/resource/wg3w-h783.json?$limit=3000000")
j = r.json()
raw = pd.DataFrame(j)
raw.to_csv('raw/raw_incidents_san_francisco.csv', index=False)





# Seattle

# https://data.seattle.gov/Public-Safety/SPD-Crime-Data-2008-Present/tazs-3rd5
r = requests.get("https://data.seattle.gov/resource/tazs-3rd5.json?$limit=3000000")
j = r.json()
raw = pd.DataFrame(j)
raw.to_csv('raw/raw_incidents_seattle.csv', index=False)





# DC
# https://opendata.dc.gov/datasets/crime-incidents-in-2018
# https://opendata.dc.gov/datasets/crime-incidents-in-2019
# https://opendata.dc.gov/datasets/crime-incidents-in-2020
r1 = requests.get("https://opendata.arcgis.com/datasets/38ba41dd74354563bce28a359b59324e_0.csv") # 2018
r2 = requests.get("https://opendata.arcgis.com/datasets/f08294e5286141c293e9202fcd3e8b57_1.csv") # 2019
r3 = requests.get("https://opendata.arcgis.com/datasets/f516e0dd7b614b088ad781b0c4002331_2.csv") # 2020

s1 = r1.content
s2 = r2.content
s3 = r3.content

raw = pd.read_csv(io.StringIO(s1.decode('utf-8')))
raw = pd.concat([raw, pd.read_csv(io.StringIO(s2.decode('utf-8')))], sort=True)
raw = pd.concat([raw, pd.read_csv(io.StringIO(s3.decode('utf-8')))], sort=True)

raw.to_csv('raw/raw_incidents_washington_dc.csv', index=False)





# Manual





# DC
r = requests.get("https://www.denvergov.org/media/gis/DataCatalog/crime/csv/crime.csv")
s = r.content
raw = pd.read_csv(io.StringIO(s.decode('utf-8')))
raw.to_csv('raw/raw_incidents_denver.csv', index=False)





# Nashville

# https://data.nashville.gov/Police/Metro-Nashville-Police-Department-Incidents/2u6v-ujjs
r = requests.get('https://data.nashville.gov/resource/2u6v-ujjs.json?$where=incident_occurred>="2018-01-01T00:00:00"&$limit=3000000')
j = r.json()
raw = pd.DataFrame(j)
raw.to_csv('raw/raw_incidents_nashville.csv', index=False)





# Manual





# Sacramento

raw = pd.DataFrame()

# Sacramento Crime Data From Current Year (2021)
# r = requests.get('https://opendata.arcgis.com/datasets/64279ca193a54189aa9214a29d32520c_0.csv')
# s = r.content
# raw = pd.read_csv(io.StringIO(s.decode('utf-8')))

# Sacramento Crime Data From One Year Ago
r = requests.get('https://opendata.arcgis.com/datasets/0026878c24454e16b169b3fb26130751_0.csv')
s = r.content
df = pd.read_csv(io.StringIO(s.decode('utf-8'))).drop('OBJECTID', axis=1)
raw = pd.concat([raw, df])

# Sacramento Crime Data From Two Years Ago
r = requests.get('https://opendata.arcgis.com/datasets/84e4483fc0624d678d7608a4fa12aae1_0.csv')
s = r.content
df = pd.read_csv(io.StringIO(s.decode('utf-8'))).drop('OBJECTID', axis=1)
raw = pd.concat([raw, df])

# Sacramento Crime Data 2018
r = requests.get('https://opendata.arcgis.com/datasets/f0c9b9d72ca94b029b43bda37561ce41_0.csv')
s = r.content
df = pd.read_csv(io.StringIO(s.decode('utf-8'))).drop('ObjectId', axis=1)

raw = pd.concat([raw, df])

raw.to_csv('raw/raw_incidents_sacramento.csv', index=False)





# Kansas City

# Socrata Open Data API (SODA)

# 2020
# https://data.kcmo.org/Crime/KCPD-Crime-Data-2020/vsgj-uufz
r = requests.get("https://data.kcmo.org/resource/vsgj-uufz.json?$limit=3000000")
j = r.json()
df = pd.DataFrame(j)

# 2019
r2 = requests.get("https://data.kcmo.org/resource/dmjw-d28i.json?$limit=3000000")
j2 = r2.json()
df2 = pd.DataFrame(j2).drop('invl_no', axis=1)

# 2018
r3 = requests.get("https://data.kcmo.org/resource/pxaa-ahcm.json?$limit=3000000")
j3 = r3.json()
df3 = pd.DataFrame(j3)

raw = pd.DataFrame()
raw = pd.concat([raw, df])
raw = pd.concat([raw, df2])
raw = pd.concat([raw, df3])
raw.to_csv('raw/raw_incidents_kansas_city.csv', index=False)





# Poor data quality


# r = requests.get("https://datahub-v2.arlingtonva.us/api/Police/IncidentLog?$top=100000")
# j = r.json()
# raw = pd.DataFrame(j)
# raw.to_csv('raw/raw_incidents_arlington.csv', index=False)





# Raleigh
r = requests.get("https://opendata.arcgis.com/datasets/24c0b37fa9bb4e16ba8bcaa7e806c615_0.csv")
s = r.content
raw = pd.read_csv(io.StringIO(s.decode('utf-8')))
raw.to_csv('raw/raw_incidents_raleigh.csv', index=False)





# Buffalo

# https://data.buffalony.gov/Public-Safety/Crime-Incidents/d6g9-xbgu
r = requests.get('https://data.buffalony.gov/resource/d6g9-xbgu.json?$limit=3000000')
j = r.json()
raw = pd.DataFrame(j)
raw.to_csv('raw/raw_incidents_buffalo.csv', index=False)





# Raleigh
r = requests.get("https://s3.amazonaws.com/vbgov-ckan-open-data/Police+Incident+Reports.csv")
s = r.content
raw = pd.read_csv(io.StringIO(s.decode('utf-8')))
raw.to_csv('raw/raw_incidents_virginia_beach.csv', index=False)


raw.head()





# Little Rock

# https://data.littlerock.gov/Safe-City/Little-Rock-Police-Department-Statistics-2017-to-Y/bz82-34ep
r = requests.get('https://data.littlerock.gov/resource/bz82-34ep.json?$limit=3000000')
j = r.json()
raw = pd.DataFrame(j)
raw.to_csv('raw/raw_incidents_little_rock.csv', index=False)


raw.to_csv('raw/raw_incidents_little_rock.csv', index=False)








pd.DataFrame(raw['offense_description'].unique()).to_csv('test.csv')


incident_date






