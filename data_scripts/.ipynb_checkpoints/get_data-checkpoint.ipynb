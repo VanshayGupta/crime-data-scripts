{
 "cells": [
  {
   "cell_type": "code",
   "execution_count": 20,
   "metadata": {},
   "outputs": [],
   "source": [
    "import requests, pandas as pd, numpy as np, io"
   ]
  },
  {
   "cell_type": "markdown",
   "metadata": {},
   "source": [
    "# Atlanta"
   ]
  },
  {
   "cell_type": "code",
   "execution_count": null,
   "metadata": {},
   "outputs": [],
   "source": [
    "# Atlanta\n",
    "\n",
    "# Manual Downloads\n",
    "# http://opendata.atlantapd.org/Crimedata/Default.aspx\n",
    "\n",
    "\n",
    "# Can't get the aspx scraper to work \n",
    "\n",
    "# from bs4 import BeautifulSoup\n",
    "\n",
    "# url = 'http://opendata.atlantapd.org/Crimedata/Default.aspx'\n",
    "# myobj = {'ctl00$MainContent$rblArea': 'CityWide',\n",
    "#     'ctl00$MainContent$ddlMonth': 1,\n",
    "#     'ctl00$MainContent$ddlYear': 2017,\n",
    "#     'ctl00$MainContent$ddlCrimeType': 'AllCrime',\n",
    "#     'ctl00$MainContent$btnSearch': 'Search'         \n",
    "# }\n",
    "# x = requests.post(url, data = myobj)\n",
    "# soup = BeautifulSoup(x.content, 'html.parser')\n",
    "\n",
    "# myobj = {\n",
    "#     '__EVENTTARGET':None,\n",
    "#     '__EVENTARGUMENT':None,\n",
    "#     '__LASTFOCUS':None,\n",
    "#     '__VIEWSTATE': soup.find(id=\"__VIEWSTATE\")['value'],\n",
    "#     '__VIEWSTATEGENERATOR': soup.find(id=\"__VIEWSTATEGENERATOR\")['value'],\n",
    "#     '__EVENTVALIDATION': soup.find(id=\"__EVENTVALIDATION\")['value'],\n",
    "#     'ctl00$MainContent$rblArea': 'CityWide',\n",
    "#     'ctl00$MainContent$ddlMonth': 1,\n",
    "#     'ctl00$MainContent$ddlYear': 2017,\n",
    "#     'ctl00$MainContent$ddlCrimeType': 'AllCrime',\n",
    "#     'ctl00$MainContent$btnDownload': 'Download CSV'         \n",
    "# }\n",
    "\n",
    "# x = requests.post(url, data = myobj)"
   ]
  },
  {
   "cell_type": "markdown",
   "metadata": {},
   "source": [
    "# Austin"
   ]
  },
  {
   "cell_type": "code",
   "execution_count": null,
   "metadata": {},
   "outputs": [],
   "source": [
    "# Austin\n",
    "\n",
    "# https://dev.socrata.com/foundry/data.austintexas.gov/fdj4-gpfu\n",
    "r = requests.get('https://data.austintexas.gov/resource/fdj4-gpfu.json?$limit=3000000')\n",
    "j = r.json()\n",
    "raw = pd.DataFrame(j)\n",
    "raw.to_csv('raw/raw_incidents_austin.csv', index=False)"
   ]
  },
  {
   "cell_type": "markdown",
   "metadata": {},
   "source": [
    "# Baltimore"
   ]
  },
  {
   "cell_type": "code",
   "execution_count": 22,
   "metadata": {},
   "outputs": [],
   "source": [
    "# Baltimore\n",
    "# https://data.baltimorecity.gov/datasets/part1-crime-data?geometry=-85.882%2C37.108%2C-72.006%2C40.112\n",
    "r = requests.get(\"https://opendata.arcgis.com/datasets/3eeb0a2cbae94b3e8549a8193717a9e1_0.csv?outSR=%7B%22latestWkid%22%3A2248%2C%22wkid%22%3A102685%7D\")\n",
    "s = r.content\n",
    "raw = pd.read_csv(io.StringIO(s.decode('utf-8')))\n",
    "raw.to_csv('raw/raw_incidents_baltimore.csv', index=False)"
   ]
  },
  {
   "cell_type": "code",
   "execution_count": 21,
   "metadata": {
    "collapsed": true
   },
   "outputs": [
    {
     "ename": "JSONDecodeError",
     "evalue": "Expecting value: line 1 column 1 (char 0)",
     "output_type": "error",
     "traceback": [
      "\u001b[1;31m---------------------------------------------------------------------------\u001b[0m",
      "\u001b[1;31mJSONDecodeError\u001b[0m                           Traceback (most recent call last)",
      "\u001b[1;32m<ipython-input-21-07e340430009>\u001b[0m in \u001b[0;36m<module>\u001b[1;34m\u001b[0m\n\u001b[0;32m      3\u001b[0m \u001b[1;31m# https://data.baltimorecity.gov/Public-Safety/BPD-Part-1-Victim-Based-Crime-Data/wsfq-mvij\u001b[0m\u001b[1;33m\u001b[0m\u001b[1;33m\u001b[0m\u001b[1;33m\u001b[0m\u001b[0m\n\u001b[0;32m      4\u001b[0m \u001b[0mr\u001b[0m \u001b[1;33m=\u001b[0m \u001b[0mrequests\u001b[0m\u001b[1;33m.\u001b[0m\u001b[0mget\u001b[0m\u001b[1;33m(\u001b[0m\u001b[1;34m\"https://data.baltimorecity.gov/resource/wsfq-mvij.json?$where=crimedate>='2017-01-01T00:00:00'&$limit=3000000\"\u001b[0m\u001b[1;33m)\u001b[0m\u001b[1;33m\u001b[0m\u001b[1;33m\u001b[0m\u001b[0m\n\u001b[1;32m----> 5\u001b[1;33m \u001b[0mj\u001b[0m \u001b[1;33m=\u001b[0m \u001b[0mr\u001b[0m\u001b[1;33m.\u001b[0m\u001b[0mjson\u001b[0m\u001b[1;33m(\u001b[0m\u001b[1;33m)\u001b[0m\u001b[1;33m\u001b[0m\u001b[1;33m\u001b[0m\u001b[0m\n\u001b[0m\u001b[0;32m      6\u001b[0m \u001b[0mraw\u001b[0m \u001b[1;33m=\u001b[0m \u001b[0mpd\u001b[0m\u001b[1;33m.\u001b[0m\u001b[0mDataFrame\u001b[0m\u001b[1;33m(\u001b[0m\u001b[0mj\u001b[0m\u001b[1;33m)\u001b[0m\u001b[1;33m\u001b[0m\u001b[1;33m\u001b[0m\u001b[0m\n\u001b[0;32m      7\u001b[0m \u001b[0mraw\u001b[0m\u001b[1;33m.\u001b[0m\u001b[0mto_csv\u001b[0m\u001b[1;33m(\u001b[0m\u001b[1;34m'raw/raw_incidents_baltimore.csv'\u001b[0m\u001b[1;33m,\u001b[0m \u001b[0mindex\u001b[0m\u001b[1;33m=\u001b[0m\u001b[1;32mFalse\u001b[0m\u001b[1;33m)\u001b[0m\u001b[1;33m\u001b[0m\u001b[1;33m\u001b[0m\u001b[0m\n",
      "\u001b[1;32m~\\anaconda3\\lib\\site-packages\\requests\\models.py\u001b[0m in \u001b[0;36mjson\u001b[1;34m(self, **kwargs)\u001b[0m\n\u001b[0;32m    896\u001b[0m                     \u001b[1;31m# used.\u001b[0m\u001b[1;33m\u001b[0m\u001b[1;33m\u001b[0m\u001b[1;33m\u001b[0m\u001b[0m\n\u001b[0;32m    897\u001b[0m                     \u001b[1;32mpass\u001b[0m\u001b[1;33m\u001b[0m\u001b[1;33m\u001b[0m\u001b[0m\n\u001b[1;32m--> 898\u001b[1;33m         \u001b[1;32mreturn\u001b[0m \u001b[0mcomplexjson\u001b[0m\u001b[1;33m.\u001b[0m\u001b[0mloads\u001b[0m\u001b[1;33m(\u001b[0m\u001b[0mself\u001b[0m\u001b[1;33m.\u001b[0m\u001b[0mtext\u001b[0m\u001b[1;33m,\u001b[0m \u001b[1;33m**\u001b[0m\u001b[0mkwargs\u001b[0m\u001b[1;33m)\u001b[0m\u001b[1;33m\u001b[0m\u001b[1;33m\u001b[0m\u001b[0m\n\u001b[0m\u001b[0;32m    899\u001b[0m \u001b[1;33m\u001b[0m\u001b[0m\n\u001b[0;32m    900\u001b[0m     \u001b[1;33m@\u001b[0m\u001b[0mproperty\u001b[0m\u001b[1;33m\u001b[0m\u001b[1;33m\u001b[0m\u001b[0m\n",
      "\u001b[1;32m~\\anaconda3\\lib\\json\\__init__.py\u001b[0m in \u001b[0;36mloads\u001b[1;34m(s, cls, object_hook, parse_float, parse_int, parse_constant, object_pairs_hook, **kw)\u001b[0m\n\u001b[0;32m    355\u001b[0m             \u001b[0mparse_int\u001b[0m \u001b[1;32mis\u001b[0m \u001b[1;32mNone\u001b[0m \u001b[1;32mand\u001b[0m \u001b[0mparse_float\u001b[0m \u001b[1;32mis\u001b[0m \u001b[1;32mNone\u001b[0m \u001b[1;32mand\u001b[0m\u001b[1;33m\u001b[0m\u001b[1;33m\u001b[0m\u001b[0m\n\u001b[0;32m    356\u001b[0m             parse_constant is None and object_pairs_hook is None and not kw):\n\u001b[1;32m--> 357\u001b[1;33m         \u001b[1;32mreturn\u001b[0m \u001b[0m_default_decoder\u001b[0m\u001b[1;33m.\u001b[0m\u001b[0mdecode\u001b[0m\u001b[1;33m(\u001b[0m\u001b[0ms\u001b[0m\u001b[1;33m)\u001b[0m\u001b[1;33m\u001b[0m\u001b[1;33m\u001b[0m\u001b[0m\n\u001b[0m\u001b[0;32m    358\u001b[0m     \u001b[1;32mif\u001b[0m \u001b[0mcls\u001b[0m \u001b[1;32mis\u001b[0m \u001b[1;32mNone\u001b[0m\u001b[1;33m:\u001b[0m\u001b[1;33m\u001b[0m\u001b[1;33m\u001b[0m\u001b[0m\n\u001b[0;32m    359\u001b[0m         \u001b[0mcls\u001b[0m \u001b[1;33m=\u001b[0m \u001b[0mJSONDecoder\u001b[0m\u001b[1;33m\u001b[0m\u001b[1;33m\u001b[0m\u001b[0m\n",
      "\u001b[1;32m~\\anaconda3\\lib\\json\\decoder.py\u001b[0m in \u001b[0;36mdecode\u001b[1;34m(self, s, _w)\u001b[0m\n\u001b[0;32m    335\u001b[0m \u001b[1;33m\u001b[0m\u001b[0m\n\u001b[0;32m    336\u001b[0m         \"\"\"\n\u001b[1;32m--> 337\u001b[1;33m         \u001b[0mobj\u001b[0m\u001b[1;33m,\u001b[0m \u001b[0mend\u001b[0m \u001b[1;33m=\u001b[0m \u001b[0mself\u001b[0m\u001b[1;33m.\u001b[0m\u001b[0mraw_decode\u001b[0m\u001b[1;33m(\u001b[0m\u001b[0ms\u001b[0m\u001b[1;33m,\u001b[0m \u001b[0midx\u001b[0m\u001b[1;33m=\u001b[0m\u001b[0m_w\u001b[0m\u001b[1;33m(\u001b[0m\u001b[0ms\u001b[0m\u001b[1;33m,\u001b[0m \u001b[1;36m0\u001b[0m\u001b[1;33m)\u001b[0m\u001b[1;33m.\u001b[0m\u001b[0mend\u001b[0m\u001b[1;33m(\u001b[0m\u001b[1;33m)\u001b[0m\u001b[1;33m)\u001b[0m\u001b[1;33m\u001b[0m\u001b[1;33m\u001b[0m\u001b[0m\n\u001b[0m\u001b[0;32m    338\u001b[0m         \u001b[0mend\u001b[0m \u001b[1;33m=\u001b[0m \u001b[0m_w\u001b[0m\u001b[1;33m(\u001b[0m\u001b[0ms\u001b[0m\u001b[1;33m,\u001b[0m \u001b[0mend\u001b[0m\u001b[1;33m)\u001b[0m\u001b[1;33m.\u001b[0m\u001b[0mend\u001b[0m\u001b[1;33m(\u001b[0m\u001b[1;33m)\u001b[0m\u001b[1;33m\u001b[0m\u001b[1;33m\u001b[0m\u001b[0m\n\u001b[0;32m    339\u001b[0m         \u001b[1;32mif\u001b[0m \u001b[0mend\u001b[0m \u001b[1;33m!=\u001b[0m \u001b[0mlen\u001b[0m\u001b[1;33m(\u001b[0m\u001b[0ms\u001b[0m\u001b[1;33m)\u001b[0m\u001b[1;33m:\u001b[0m\u001b[1;33m\u001b[0m\u001b[1;33m\u001b[0m\u001b[0m\n",
      "\u001b[1;32m~\\anaconda3\\lib\\json\\decoder.py\u001b[0m in \u001b[0;36mraw_decode\u001b[1;34m(self, s, idx)\u001b[0m\n\u001b[0;32m    353\u001b[0m             \u001b[0mobj\u001b[0m\u001b[1;33m,\u001b[0m \u001b[0mend\u001b[0m \u001b[1;33m=\u001b[0m \u001b[0mself\u001b[0m\u001b[1;33m.\u001b[0m\u001b[0mscan_once\u001b[0m\u001b[1;33m(\u001b[0m\u001b[0ms\u001b[0m\u001b[1;33m,\u001b[0m \u001b[0midx\u001b[0m\u001b[1;33m)\u001b[0m\u001b[1;33m\u001b[0m\u001b[1;33m\u001b[0m\u001b[0m\n\u001b[0;32m    354\u001b[0m         \u001b[1;32mexcept\u001b[0m \u001b[0mStopIteration\u001b[0m \u001b[1;32mas\u001b[0m \u001b[0merr\u001b[0m\u001b[1;33m:\u001b[0m\u001b[1;33m\u001b[0m\u001b[1;33m\u001b[0m\u001b[0m\n\u001b[1;32m--> 355\u001b[1;33m             \u001b[1;32mraise\u001b[0m \u001b[0mJSONDecodeError\u001b[0m\u001b[1;33m(\u001b[0m\u001b[1;34m\"Expecting value\"\u001b[0m\u001b[1;33m,\u001b[0m \u001b[0ms\u001b[0m\u001b[1;33m,\u001b[0m \u001b[0merr\u001b[0m\u001b[1;33m.\u001b[0m\u001b[0mvalue\u001b[0m\u001b[1;33m)\u001b[0m \u001b[1;32mfrom\u001b[0m \u001b[1;32mNone\u001b[0m\u001b[1;33m\u001b[0m\u001b[1;33m\u001b[0m\u001b[0m\n\u001b[0m\u001b[0;32m    356\u001b[0m         \u001b[1;32mreturn\u001b[0m \u001b[0mobj\u001b[0m\u001b[1;33m,\u001b[0m \u001b[0mend\u001b[0m\u001b[1;33m\u001b[0m\u001b[1;33m\u001b[0m\u001b[0m\n",
      "\u001b[1;31mJSONDecodeError\u001b[0m: Expecting value: line 1 column 1 (char 0)"
     ]
    }
   ],
   "source": [
    "# # Baltimore\n",
    "\n",
    "# # https://data.baltimorecity.gov/Public-Safety/BPD-Part-1-Victim-Based-Crime-Data/wsfq-mvij\n",
    "# # r = requests.get(\"https://data.baltimorecity.gov/resource/wsfq-mvij.json?$where=crimedate>='2017-01-01T00:00:00'&$limit=3000000\")\n",
    "# j = r.json()\n",
    "# raw = pd.DataFrame(j)\n",
    "# raw.to_csv('raw/raw_incidents_baltimore.csv', index=False)"
   ]
  },
  {
   "cell_type": "markdown",
   "metadata": {},
   "source": [
    "# Boston"
   ]
  },
  {
   "cell_type": "code",
   "execution_count": null,
   "metadata": {},
   "outputs": [],
   "source": [
    "# Boston\n",
    "# https://data.boston.gov/dataset/crime-incident-reports-august-2015-to-date-source-new-system\n",
    "r = requests.get(\"https://data.boston.gov/dataset/6220d948-eae2-4e4b-8723-2dc8e67722a3/resource/12cb3883-56f5-47de-afa5-3b1cf61b257b/download/tmp_sdaa6vd.csv\")\n",
    "s = r.content\n",
    "raw = pd.read_csv(io.StringIO(s.decode('utf-8')))\n",
    "raw.to_csv('raw/raw_incidents_boston.csv', index=False)"
   ]
  },
  {
   "cell_type": "markdown",
   "metadata": {},
   "source": [
    "# Chicago"
   ]
  },
  {
   "cell_type": "code",
   "execution_count": null,
   "metadata": {},
   "outputs": [],
   "source": [
    "# Chicago\n",
    "\n",
    "# https://dev.socrata.com/foundry/data.cityofchicago.org/ijzp-q8t2\n",
    "r = requests.get(\"https://data.cityofchicago.org/resource/crimes.json?$where=date>='2017-01-01T00:00:00'&$limit=3000000\")\n",
    "j = r.json()\n",
    "raw = pd.DataFrame(j)\n",
    "raw.to_csv('raw/raw_incidents_chicago.csv', index=False)"
   ]
  },
  {
   "cell_type": "markdown",
   "metadata": {},
   "source": [
    "# Cincinnati"
   ]
  },
  {
   "cell_type": "code",
   "execution_count": null,
   "metadata": {},
   "outputs": [],
   "source": [
    "# Cincinnati\n",
    "\n",
    "# Socrata Open Data API (SODA)\n",
    "# https://data.cincinnati-oh.gov/Safety/PDI-Police-Data-Initiative-Crime-Incidents/k59e-2pvf\n",
    "r = requests.get(\"https://data.cincinnati-oh.gov/resource/k59e-2pvf.json?$limit=3000000\")\n",
    "j = r.json()\n",
    "raw = pd.DataFrame(j)\n",
    "raw.to_csv('raw/raw_incidents_cincinnati.csv', index=False)"
   ]
  },
  {
   "cell_type": "markdown",
   "metadata": {},
   "source": [
    "# Dallas"
   ]
  },
  {
   "cell_type": "code",
   "execution_count": null,
   "metadata": {},
   "outputs": [],
   "source": [
    "# Dallas\n",
    "\n",
    "# https://www.dallasopendata.com/Public-Safety/Police-Incidents/qv6i-rri7\n",
    "r = requests.get(\"https://www.dallasopendata.com/resource/qv6i-rri7.json?$where=servyr>=2017&$limit=3000000\")\n",
    "j = r.json()\n",
    "raw = pd.DataFrame(j)\n",
    "raw.to_csv('raw/raw_incidents_dallas.csv', index=False)"
   ]
  },
  {
   "cell_type": "markdown",
   "metadata": {},
   "source": [
    "# Detroit"
   ]
  },
  {
   "cell_type": "code",
   "execution_count": null,
   "metadata": {},
   "outputs": [],
   "source": [
    "# Detroit\n",
    "# https://data.detroitmi.gov/datasets/rms-crime-incidents\n",
    "r = requests.get(\"https://opendata.arcgis.com/datasets/0825badfe6304620a998d162be0e135e_0.csv\")\n",
    "s = r.content\n",
    "raw = pd.read_csv(io.StringIO(s.decode('utf-8')))\n",
    "raw.to_csv('raw/raw_incidents_detroit.csv', index=False)"
   ]
  },
  {
   "cell_type": "markdown",
   "metadata": {},
   "source": [
    "# Fort Worth"
   ]
  },
  {
   "cell_type": "code",
   "execution_count": null,
   "metadata": {},
   "outputs": [],
   "source": [
    "# Fort Worth\n",
    "\n",
    "# https://data.fortworthtexas.gov/Public-Safety/Crime-Data/k6ic-7kp7\n",
    "r = requests.get(\"https://data.fortworthtexas.gov/resource/k6ic-7kp7.json?$where=from_date>='2017-01-01T00:00:00'&$limit=3000000\")\n",
    "j = r.json()\n",
    "raw = pd.DataFrame(j)\n",
    "raw.to_csv('raw/raw_incidents_fort_worth.csv', index=False)"
   ]
  },
  {
   "cell_type": "markdown",
   "metadata": {},
   "source": [
    "# Los Angeles"
   ]
  },
  {
   "cell_type": "code",
   "execution_count": null,
   "metadata": {},
   "outputs": [],
   "source": [
    "# Los Angeles\n",
    "\n",
    "# 2020\n",
    "# https://dev.socrata.com/foundry/data.lacity.org/2nrs-mtv8\n",
    "r1 = requests.get('https://data.lacity.org/resource/2nrs-mtv8.json?$limit=3000000')\n",
    "j1 = r1.json()\n",
    "df1 = pd.DataFrame(j1)\n",
    "\n",
    "# 2010 - 2019\n",
    "# https://dev.socrata.com/foundry/data.lacity.org/63jg-8b9z\n",
    "r2 = requests.get('https://data.lacity.org/resource/63jg-8b9z.json?$where=date_occ>\"2017-01-01T00:00:00.000\"&$limit=3000000')\n",
    "j2 = r2.json()\n",
    "df2 = pd.DataFrame(j2)\n",
    "\n",
    "raw = pd.concat([df1, df2], sort=True)\n",
    "raw.to_csv('raw/raw_incidents_los_angeles.csv', index=False)"
   ]
  },
  {
   "cell_type": "markdown",
   "metadata": {},
   "source": [
    "# Miami"
   ]
  },
  {
   "cell_type": "code",
   "execution_count": null,
   "metadata": {},
   "outputs": [],
   "source": []
  },
  {
   "cell_type": "markdown",
   "metadata": {},
   "source": [
    "# Milwaukee"
   ]
  },
  {
   "cell_type": "code",
   "execution_count": null,
   "metadata": {},
   "outputs": [],
   "source": [
    "# Milwaukee\n",
    "\n",
    "# Historical\n",
    "# https://data.milwaukee.gov/dataset/wibrarchive\n",
    "r1 = requests.get(\"https://data.milwaukee.gov/dataset/5a537f5c-10d7-40a2-9b93-3527a4c89fbd/resource/395db729-a30a-4e53-ab66-faeb5e1899c8/download/wibrarchive.csv\")\n",
    "s1 = r1.content\n",
    "\n",
    "# Current\n",
    "# https://data.milwaukee.gov/dataset/wibr \n",
    "r2 = requests.get(\"https://data.milwaukee.gov/dataset/e5feaad3-ee73-418c-b65d-ef810c199390/resource/87843297-a6fa-46d4-ba5d-cb342fb2d3bb/download/wibr.csv\")\n",
    "s2 = r2.content\n",
    "\n",
    "raw = pd.concat([pd.read_csv(io.StringIO(s1.decode('utf-8'))), pd.read_csv(io.StringIO(s2.decode('utf-8')))], sort=True)\n",
    "raw.to_csv('raw/raw_incidents_milwaukee.csv', index=False)"
   ]
  },
  {
   "cell_type": "markdown",
   "metadata": {},
   "source": [
    "# New York City"
   ]
  },
  {
   "cell_type": "code",
   "execution_count": null,
   "metadata": {},
   "outputs": [],
   "source": [
    "# New York City\n",
    "\n",
    "# 2020\n",
    "# https://dev.socrata.com/foundry/data.cityofnewyork.us/5uac-w243\n",
    "r1 = requests.get('https://data.cityofnewyork.us/resource/5uac-w243.json?$limit=3000000')\n",
    "j1 = r1.json()\n",
    "df1 = pd.DataFrame(j1)\n",
    "df1 = df1.drop(\n",
    "    [':@computed_region_92fq_4b7q',\n",
    "     ':@computed_region_efsh_h5xi',\n",
    "     ':@computed_region_f5dn_yrer',\n",
    "     ':@computed_region_sbqj_enih',\n",
    "     ':@computed_region_yeji_bk3q'], axis=1)\n",
    "\n",
    "# 2006 - 2019\n",
    "# https://dev.socrata.com/foundry/data.cityofnewyork.us/qgea-i56i\n",
    "r2 = requests.get('https://data.cityofnewyork.us/resource/qgea-i56i.json?$where=cmplnt_fr_dt>\"2017-01-01T00:00:00.000\"&$limit=3000000')\n",
    "j2 = r2.json()\n",
    "df2 = pd.DataFrame(j2)\n",
    "df2 = df2.drop(['transit_district','station_name'], axis=1)\n",
    "\n",
    "raw = pd.concat([df1, df2], sort=True)\n",
    "raw.to_csv('raw/raw_incidents_new_york_city.csv', index=False)"
   ]
  },
  {
   "cell_type": "markdown",
   "metadata": {},
   "source": [
    "# Philadelphia"
   ]
  },
  {
   "cell_type": "code",
   "execution_count": null,
   "metadata": {},
   "outputs": [],
   "source": [
    "# Philadelphia Raw Incidents\n",
    "# https://www.opendataphilly.org/dataset/crime-incidents\n",
    "r = requests.get('https://phl.carto.com/api/v2/sql?q=SELECT * FROM incidents_part1_part2')\n",
    "j = r.json()\n",
    "raw = pd.DataFrame(j['rows'])\n",
    "raw.to_csv('raw/raw_incidents_philadelphia.csv', index=False)"
   ]
  },
  {
   "cell_type": "markdown",
   "metadata": {},
   "source": [
    "# Phoenix"
   ]
  },
  {
   "cell_type": "code",
   "execution_count": null,
   "metadata": {
    "scrolled": true
   },
   "outputs": [],
   "source": [
    "import io\n",
    "\n",
    "# Phoenix\n",
    "\n",
    "# https://www.phoenixopendata.com/dataset/crime-data/resource/0ce3411a-2fc6-4302-a33f-167f68608a20\n",
    "url = 'https://www.phoenixopendata.com/dataset/cc08aace-9ca9-467f-b6c1-f0879ab1a358/resource/0ce3411a-2fc6-4302-a33f-167f68608a20/download/crimestat.csv'\n",
    "r = requests.get(url)\n",
    "s = r.content\n",
    "raw = pd.read_csv(io.StringIO(s.decode('utf-8')))\n",
    "raw.to_csv('raw/raw_incidents_phoenix.csv', index=False)"
   ]
  },
  {
   "cell_type": "markdown",
   "metadata": {},
   "source": [
    "# Portland\n"
   ]
  },
  {
   "cell_type": "code",
   "execution_count": null,
   "metadata": {},
   "outputs": [],
   "source": [
    "# Manual"
   ]
  },
  {
   "cell_type": "markdown",
   "metadata": {},
   "source": [
    "# San Francisco"
   ]
  },
  {
   "cell_type": "code",
   "execution_count": null,
   "metadata": {},
   "outputs": [],
   "source": [
    "# San Francisco\n",
    "\n",
    "# Socrata Open Data API (SODA)\n",
    "# https://data.sfgov.org/Public-Safety/Police-Department-Incident-Reports-2018-to-Present/wg3w-h783\n",
    "r = requests.get(\"https://data.sfgov.org/resource/wg3w-h783.json?$limit=3000000\")\n",
    "j = r.json()\n",
    "raw = pd.DataFrame(j)\n",
    "raw.to_csv('raw/raw_incidents_san_francisco.csv', index=False)"
   ]
  },
  {
   "cell_type": "markdown",
   "metadata": {},
   "source": [
    "# Seattle"
   ]
  },
  {
   "cell_type": "code",
   "execution_count": null,
   "metadata": {},
   "outputs": [],
   "source": [
    "# Seattle\n",
    "\n",
    "# https://data.seattle.gov/Public-Safety/SPD-Crime-Data-2008-Present/tazs-3rd5\n",
    "r = requests.get(\"https://data.seattle.gov/resource/tazs-3rd5.json?$limit=3000000\")\n",
    "j = r.json()\n",
    "raw = pd.DataFrame(j)\n",
    "raw.to_csv('raw/raw_incidents_seattle.csv', index=False)"
   ]
  },
  {
   "cell_type": "markdown",
   "metadata": {},
   "source": [
    "# Washington DC"
   ]
  },
  {
   "cell_type": "code",
   "execution_count": null,
   "metadata": {},
   "outputs": [],
   "source": [
    "# DC\n",
    "# https://opendata.dc.gov/datasets/crime-incidents-in-2018\n",
    "# https://opendata.dc.gov/datasets/crime-incidents-in-2019\n",
    "# https://opendata.dc.gov/datasets/crime-incidents-in-2020\n",
    "r1 = requests.get(\"https://opendata.arcgis.com/datasets/38ba41dd74354563bce28a359b59324e_0.csv\") # 2018\n",
    "r2 = requests.get(\"https://opendata.arcgis.com/datasets/f08294e5286141c293e9202fcd3e8b57_1.csv\") # 2019\n",
    "r3 = requests.get(\"https://opendata.arcgis.com/datasets/f516e0dd7b614b088ad781b0c4002331_2.csv\") # 2020\n",
    "\n",
    "s1 = r1.content\n",
    "s2 = r2.content\n",
    "s3 = r3.content\n",
    "\n",
    "raw = pd.read_csv(io.StringIO(s1.decode('utf-8')))\n",
    "raw = pd.concat([raw, pd.read_csv(io.StringIO(s2.decode('utf-8')))], sort=True)\n",
    "raw = pd.concat([raw, pd.read_csv(io.StringIO(s3.decode('utf-8')))], sort=True)\n",
    "\n",
    "raw.to_csv('raw/raw_incidents_washington_dc.csv', index=False)"
   ]
  },
  {
   "cell_type": "markdown",
   "metadata": {},
   "source": [
    "# Houston"
   ]
  },
  {
   "cell_type": "code",
   "execution_count": null,
   "metadata": {},
   "outputs": [],
   "source": [
    "# Manual"
   ]
  },
  {
   "cell_type": "markdown",
   "metadata": {},
   "source": [
    "# Denver"
   ]
  },
  {
   "cell_type": "code",
   "execution_count": null,
   "metadata": {},
   "outputs": [],
   "source": [
    "# DC\n",
    "r = requests.get(\"https://www.denvergov.org/media/gis/DataCatalog/crime/csv/crime.csv\")\n",
    "s = r.content\n",
    "raw = pd.read_csv(io.StringIO(s.decode('utf-8')))\n",
    "raw.to_csv('raw/raw_incidents_denver.csv', index=False)"
   ]
  },
  {
   "cell_type": "markdown",
   "metadata": {},
   "source": [
    "# Nashville"
   ]
  },
  {
   "cell_type": "code",
   "execution_count": null,
   "metadata": {},
   "outputs": [],
   "source": [
    "# Nashville\n",
    "\n",
    "# https://data.nashville.gov/Police/Metro-Nashville-Police-Department-Incidents/2u6v-ujjs\n",
    "r = requests.get('https://data.nashville.gov/resource/2u6v-ujjs.json?$where=incident_occurred>=\"2018-01-01T00:00:00\"&$limit=3000000')\n",
    "j = r.json()\n",
    "raw = pd.DataFrame(j)\n",
    "raw.to_csv('raw/raw_incidents_nashville.csv', index=False)"
   ]
  },
  {
   "cell_type": "markdown",
   "metadata": {},
   "source": [
    "# Louisville"
   ]
  },
  {
   "cell_type": "code",
   "execution_count": null,
   "metadata": {},
   "outputs": [],
   "source": [
    "# Manual"
   ]
  },
  {
   "cell_type": "markdown",
   "metadata": {},
   "source": [
    "# Sacramento"
   ]
  },
  {
   "cell_type": "code",
   "execution_count": null,
   "metadata": {},
   "outputs": [],
   "source": [
    "# Sacramento\n",
    "\n",
    "raw = pd.DataFrame()\n",
    "\n",
    "# Sacramento Crime Data From Current Year (2021)\n",
    "# r = requests.get('https://opendata.arcgis.com/datasets/64279ca193a54189aa9214a29d32520c_0.csv')\n",
    "# s = r.content\n",
    "# raw = pd.read_csv(io.StringIO(s.decode('utf-8')))\n",
    "\n",
    "# Sacramento Crime Data From One Year Ago\n",
    "r = requests.get('https://opendata.arcgis.com/datasets/0026878c24454e16b169b3fb26130751_0.csv')\n",
    "s = r.content\n",
    "df = pd.read_csv(io.StringIO(s.decode('utf-8'))).drop('OBJECTID', axis=1)\n",
    "raw = pd.concat([raw, df])\n",
    "\n",
    "# Sacramento Crime Data From Two Years Ago\n",
    "r = requests.get('https://opendata.arcgis.com/datasets/84e4483fc0624d678d7608a4fa12aae1_0.csv')\n",
    "s = r.content\n",
    "df = pd.read_csv(io.StringIO(s.decode('utf-8'))).drop('OBJECTID', axis=1)\n",
    "raw = pd.concat([raw, df])\n",
    "\n",
    "# Sacramento Crime Data 2018\n",
    "r = requests.get('https://opendata.arcgis.com/datasets/f0c9b9d72ca94b029b43bda37561ce41_0.csv')\n",
    "s = r.content\n",
    "df = pd.read_csv(io.StringIO(s.decode('utf-8'))).drop('ObjectId', axis=1)\n",
    "\n",
    "raw = pd.concat([raw, df])\n",
    "\n",
    "raw.to_csv('raw/raw_incidents_sacramento.csv', index=False)"
   ]
  },
  {
   "cell_type": "markdown",
   "metadata": {},
   "source": [
    "# Kansas City"
   ]
  },
  {
   "cell_type": "code",
   "execution_count": null,
   "metadata": {},
   "outputs": [],
   "source": [
    "# Kansas City\n",
    "\n",
    "# Socrata Open Data API (SODA)\n",
    "\n",
    "# 2020\n",
    "# https://data.kcmo.org/Crime/KCPD-Crime-Data-2020/vsgj-uufz\n",
    "r = requests.get(\"https://data.kcmo.org/resource/vsgj-uufz.json?$limit=3000000\")\n",
    "j = r.json()\n",
    "df = pd.DataFrame(j)\n",
    "\n",
    "# 2019\n",
    "r2 = requests.get(\"https://data.kcmo.org/resource/dmjw-d28i.json?$limit=3000000\")\n",
    "j2 = r2.json()\n",
    "df2 = pd.DataFrame(j2).drop('invl_no', axis=1)\n",
    "\n",
    "# 2018\n",
    "r3 = requests.get(\"https://data.kcmo.org/resource/pxaa-ahcm.json?$limit=3000000\")\n",
    "j3 = r3.json()\n",
    "df3 = pd.DataFrame(j3)\n",
    "\n",
    "raw = pd.DataFrame()\n",
    "raw = pd.concat([raw, df])\n",
    "raw = pd.concat([raw, df2])\n",
    "raw = pd.concat([raw, df3])\n",
    "raw.to_csv('raw/raw_incidents_kansas_city.csv', index=False)"
   ]
  },
  {
   "cell_type": "markdown",
   "metadata": {},
   "source": [
    "# Arlington"
   ]
  },
  {
   "cell_type": "code",
   "execution_count": 17,
   "metadata": {},
   "outputs": [],
   "source": [
    "# Poor data quality"
   ]
  },
  {
   "cell_type": "code",
   "execution_count": 10,
   "metadata": {},
   "outputs": [],
   "source": [
    "# r = requests.get(\"https://datahub-v2.arlingtonva.us/api/Police/IncidentLog?$top=100000\")\n",
    "# j = r.json()\n",
    "# raw = pd.DataFrame(j)\n",
    "# raw.to_csv('raw/raw_incidents_arlington.csv', index=False)"
   ]
  },
  {
   "cell_type": "markdown",
   "metadata": {},
   "source": [
    "# Raleigh"
   ]
  },
  {
   "cell_type": "code",
   "execution_count": 18,
   "metadata": {},
   "outputs": [],
   "source": [
    "# Raleigh\n",
    "r = requests.get(\"https://opendata.arcgis.com/datasets/24c0b37fa9bb4e16ba8bcaa7e806c615_0.csv\")\n",
    "s = r.content\n",
    "raw = pd.read_csv(io.StringIO(s.decode('utf-8')))\n",
    "raw.to_csv('raw/raw_incidents_raleigh.csv', index=False)"
   ]
  },
  {
   "cell_type": "markdown",
   "metadata": {},
   "source": [
    "# Buffalo"
   ]
  },
  {
   "cell_type": "code",
   "execution_count": 4,
   "metadata": {},
   "outputs": [],
   "source": [
    "# Buffalo\n",
    "\n",
    "# https://data.buffalony.gov/Public-Safety/Crime-Incidents/d6g9-xbgu\n",
    "r = requests.get('https://data.buffalony.gov/resource/d6g9-xbgu.json?$limit=3000000')\n",
    "j = r.json()\n",
    "raw = pd.DataFrame(j)\n",
    "raw.to_csv('raw/raw_incidents_buffalo.csv', index=False)"
   ]
  },
  {
   "cell_type": "markdown",
   "metadata": {},
   "source": [
    "# Virginia Beach"
   ]
  },
  {
   "cell_type": "code",
   "execution_count": 10,
   "metadata": {},
   "outputs": [],
   "source": [
    "# Raleigh\n",
    "r = requests.get(\"https://s3.amazonaws.com/vbgov-ckan-open-data/Police+Incident+Reports.csv\")\n",
    "s = r.content\n",
    "raw = pd.read_csv(io.StringIO(s.decode('utf-8')))\n",
    "raw.to_csv('raw/raw_incidents_virginia_beach.csv', index=False)"
   ]
  },
  {
   "cell_type": "code",
   "execution_count": 11,
   "metadata": {},
   "outputs": [
    {
     "data": {
      "text/html": [
       "<div>\n",
       "<style scoped>\n",
       "    .dataframe tbody tr th:only-of-type {\n",
       "        vertical-align: middle;\n",
       "    }\n",
       "\n",
       "    .dataframe tbody tr th {\n",
       "        vertical-align: top;\n",
       "    }\n",
       "\n",
       "    .dataframe thead th {\n",
       "        text-align: right;\n",
       "    }\n",
       "</style>\n",
       "<table border=\"1\" class=\"dataframe\">\n",
       "  <thead>\n",
       "    <tr style=\"text-align: right;\">\n",
       "      <th></th>\n",
       "      <th>Police Case Number</th>\n",
       "      <th>Date Reported</th>\n",
       "      <th>Date Occured</th>\n",
       "      <th>Date Found</th>\n",
       "      <th>Offense Code</th>\n",
       "      <th>Offense Description</th>\n",
       "      <th>Block Address</th>\n",
       "      <th>City</th>\n",
       "      <th>State</th>\n",
       "      <th>Zip</th>\n",
       "      <th>Subdivision</th>\n",
       "      <th>Zone ID</th>\n",
       "      <th>Case Status</th>\n",
       "    </tr>\n",
       "  </thead>\n",
       "  <tbody>\n",
       "    <tr>\n",
       "      <th>0</th>\n",
       "      <td>2002032370</td>\n",
       "      <td>2020-09-30 15:00:00</td>\n",
       "      <td>2020-09-30 14:05:00</td>\n",
       "      <td>2020-09-30 14:05:00</td>\n",
       "      <td>35A1</td>\n",
       "      <td>DRUG/ NARCOTIC VIOLATIONS</td>\n",
       "      <td>300 OVERLOOK CT</td>\n",
       "      <td>VIRGINIA BEACH</td>\n",
       "      <td>VA</td>\n",
       "      <td>23454</td>\n",
       "      <td>CHATHAM SQUARE APTS IN OCONEE PARK</td>\n",
       "      <td>222.0</td>\n",
       "      <td>EXCEPTIONALLY CLEARED</td>\n",
       "    </tr>\n",
       "    <tr>\n",
       "      <th>1</th>\n",
       "      <td>2013036292</td>\n",
       "      <td>2016-08-31 10:45:00</td>\n",
       "      <td>2016-08-01 00:01:00</td>\n",
       "      <td>2016-08-31 10:30:00</td>\n",
       "      <td>90J</td>\n",
       "      <td>TRESPASS OF REAL PROPERTY</td>\n",
       "      <td>2900 SANDPIPER RD</td>\n",
       "      <td>VIRGINIA BEACH</td>\n",
       "      <td>VA</td>\n",
       "      <td>23456</td>\n",
       "      <td>SANDBRIDGE</td>\n",
       "      <td>122.0</td>\n",
       "      <td>INACTIVE - PENDING</td>\n",
       "    </tr>\n",
       "    <tr>\n",
       "      <th>2</th>\n",
       "      <td>2014018812</td>\n",
       "      <td>2017-10-03 09:30:00</td>\n",
       "      <td>2014-05-13 12:15:00</td>\n",
       "      <td>2014-05-13 12:15:00</td>\n",
       "      <td>200</td>\n",
       "      <td>ARSON</td>\n",
       "      <td>1300 GENERAL BOOTH BL</td>\n",
       "      <td>VIRGINIA BEACH</td>\n",
       "      <td>VA</td>\n",
       "      <td>23451</td>\n",
       "      <td>REDWING AREA</td>\n",
       "      <td>123.0</td>\n",
       "      <td>INACTIVE - PENDING</td>\n",
       "    </tr>\n",
       "    <tr>\n",
       "      <th>3</th>\n",
       "      <td>2014903998</td>\n",
       "      <td>2019-10-19 12:00:00</td>\n",
       "      <td>2019-10-18 16:00:00</td>\n",
       "      <td>2019-10-19 11:00:00</td>\n",
       "      <td>23F</td>\n",
       "      <td>LARCENY, FROM MOTOR VEHICLE</td>\n",
       "      <td>300 21ST ST</td>\n",
       "      <td>VIRGINIA BEACH</td>\n",
       "      <td>VA</td>\n",
       "      <td>23451</td>\n",
       "      <td>OCEANFRONT - 31ST ST SOUTH</td>\n",
       "      <td>227.0</td>\n",
       "      <td>INACTIVE - PENDING</td>\n",
       "    </tr>\n",
       "    <tr>\n",
       "      <th>4</th>\n",
       "      <td>2015000634</td>\n",
       "      <td>2016-01-05 17:22:00</td>\n",
       "      <td>2016-01-03 09:00:00</td>\n",
       "      <td>2016-01-05 16:15:00</td>\n",
       "      <td>23H</td>\n",
       "      <td>LARCENY, ALL OTHERS</td>\n",
       "      <td>5300 CANTERFORD LA</td>\n",
       "      <td>VIRGINIA BEACH</td>\n",
       "      <td>VA</td>\n",
       "      <td>23464</td>\n",
       "      <td>CARRIAGE MILL</td>\n",
       "      <td>421.0</td>\n",
       "      <td>INACTIVE - PENDING</td>\n",
       "    </tr>\n",
       "  </tbody>\n",
       "</table>\n",
       "</div>"
      ],
      "text/plain": [
       "   Police Case Number        Date Reported         Date Occured  \\\n",
       "0          2002032370  2020-09-30 15:00:00  2020-09-30 14:05:00   \n",
       "1          2013036292  2016-08-31 10:45:00  2016-08-01 00:01:00   \n",
       "2          2014018812  2017-10-03 09:30:00  2014-05-13 12:15:00   \n",
       "3          2014903998  2019-10-19 12:00:00  2019-10-18 16:00:00   \n",
       "4          2015000634  2016-01-05 17:22:00  2016-01-03 09:00:00   \n",
       "\n",
       "            Date Found Offense Code          Offense Description  \\\n",
       "0  2020-09-30 14:05:00         35A1    DRUG/ NARCOTIC VIOLATIONS   \n",
       "1  2016-08-31 10:30:00         90J     TRESPASS OF REAL PROPERTY   \n",
       "2  2014-05-13 12:15:00         200                         ARSON   \n",
       "3  2019-10-19 11:00:00         23F   LARCENY, FROM MOTOR VEHICLE   \n",
       "4  2016-01-05 16:15:00         23H           LARCENY, ALL OTHERS   \n",
       "\n",
       "           Block Address            City State         Zip  \\\n",
       "0        300 OVERLOOK CT  VIRGINIA BEACH    VA  23454        \n",
       "1      2900 SANDPIPER RD  VIRGINIA BEACH    VA  23456        \n",
       "2  1300 GENERAL BOOTH BL  VIRGINIA BEACH    VA  23451        \n",
       "3            300 21ST ST  VIRGINIA BEACH    VA  23451        \n",
       "4     5300 CANTERFORD LA  VIRGINIA BEACH    VA  23464        \n",
       "\n",
       "                          Subdivision  Zone ID            Case Status  \n",
       "0  CHATHAM SQUARE APTS IN OCONEE PARK    222.0  EXCEPTIONALLY CLEARED  \n",
       "1                          SANDBRIDGE    122.0     INACTIVE - PENDING  \n",
       "2                        REDWING AREA    123.0     INACTIVE - PENDING  \n",
       "3          OCEANFRONT - 31ST ST SOUTH    227.0     INACTIVE - PENDING  \n",
       "4                       CARRIAGE MILL    421.0     INACTIVE - PENDING  "
      ]
     },
     "execution_count": 11,
     "metadata": {},
     "output_type": "execute_result"
    }
   ],
   "source": [
    "raw.head()"
   ]
  },
  {
   "cell_type": "markdown",
   "metadata": {},
   "source": [
    "# Little Rock"
   ]
  },
  {
   "cell_type": "code",
   "execution_count": 16,
   "metadata": {},
   "outputs": [],
   "source": [
    "# Little Rock\n",
    "\n",
    "# https://data.littlerock.gov/Safe-City/Little-Rock-Police-Department-Statistics-2017-to-Y/bz82-34ep\n",
    "r = requests.get('https://data.littlerock.gov/resource/bz82-34ep.json?$limit=3000000')\n",
    "j = r.json()\n",
    "raw = pd.DataFrame(j)\n",
    "raw.to_csv('raw/raw_incidents_little_rock.csv', index=False)"
   ]
  },
  {
   "cell_type": "code",
   "execution_count": 19,
   "metadata": {},
   "outputs": [],
   "source": [
    "raw.to_csv('raw/raw_incidents_little_rock.csv', index=False)"
   ]
  },
  {
   "cell_type": "code",
   "execution_count": null,
   "metadata": {},
   "outputs": [],
   "source": []
  },
  {
   "cell_type": "code",
   "execution_count": null,
   "metadata": {},
   "outputs": [],
   "source": []
  },
  {
   "cell_type": "code",
   "execution_count": 18,
   "metadata": {},
   "outputs": [],
   "source": [
    "pd.DataFrame(raw['offense_description'].unique()).to_csv('test.csv')"
   ]
  },
  {
   "cell_type": "code",
   "execution_count": 14,
   "metadata": {},
   "outputs": [
    {
     "data": {
      "text/plain": [
       "array(['2020-09-30 14:05:00', '2016-08-01 00:01:00',\n",
       "       '2014-05-13 12:15:00', ..., '2021-04-30 14:00:00',\n",
       "       '2020-11-29 19:24:00', '2020-06-15 03:30:00'], dtype=object)"
      ]
     },
     "execution_count": 14,
     "metadata": {},
     "output_type": "execute_result"
    }
   ],
   "source": [
    "incident_date"
   ]
  },
  {
   "cell_type": "code",
   "execution_count": null,
   "metadata": {},
   "outputs": [],
   "source": []
  },
  {
   "cell_type": "code",
   "execution_count": null,
   "metadata": {},
   "outputs": [],
   "source": []
  }
 ],
 "metadata": {
  "kernelspec": {
   "display_name": "Python 3",
   "language": "python",
   "name": "python3"
  },
  "language_info": {
   "codemirror_mode": {
    "name": "ipython",
    "version": 3
   },
   "file_extension": ".py",
   "mimetype": "text/x-python",
   "name": "python",
   "nbconvert_exporter": "python",
   "pygments_lexer": "ipython3",
   "version": "3.8.3"
  }
 },
 "nbformat": 4,
 "nbformat_minor": 4
}
