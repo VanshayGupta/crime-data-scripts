{
 "cells": [
  {
   "cell_type": "code",
   "execution_count": 1,
   "metadata": {},
   "outputs": [],
   "source": [
    "import pandas as pd"
   ]
  },
  {
   "cell_type": "markdown",
   "metadata": {},
   "source": [
    "# Merge all standardized citites"
   ]
  },
  {
   "cell_type": "code",
   "execution_count": 2,
   "metadata": {},
   "outputs": [],
   "source": [
    "cities = ['atlanta', 'austin', 'baltimore', 'boston', 'chicago', 'cincinnati',\n",
    "          'dallas', 'detroit', 'fort_worth', 'los_angeles', 'new_york_city',\n",
    "          'philadelphia', 'phoenix', 'san_francisco', 'seattle', 'washington_dc', \n",
    "          'milwaukee', 'portland', 'denver', 'houston', 'nashville', \n",
    "          'louisville', 'kansas_city', 'raleigh', 'buffalo', 'virginia_beach', 'little_rock']"
   ]
  },
  {
   "cell_type": "code",
   "execution_count": 8,
   "metadata": {},
   "outputs": [
    {
     "name": "stdout",
     "output_type": "stream",
     "text": [
      "atlanta 85337\n",
      "austin 152892\n",
      "baltimore 101253\n",
      "boston 88936\n",
      "chicago 516614\n",
      "cincinnati 63966\n",
      "dallas 170799\n",
      "detroit 160386\n",
      "fort_worth 63955\n",
      "los_angeles 454458\n",
      "new_york_city 652750\n",
      "philadelphia 266533\n",
      "phoenix 148006\n",
      "san_francisco 214004\n",
      "seattle 152195\n",
      "washington_dc 74270\n",
      "milwaukee 76682\n",
      "portland 126745\n",
      "denver 94579\n",
      "houston 404456\n",
      "nashville 160822\n",
      "louisville 143457\n",
      "kansas_city 177585\n",
      "raleigh 68199\n",
      "buffalo 31283\n",
      "virginia_beach 48036\n",
      "little_rock 33900\n"
     ]
    }
   ],
   "source": [
    "final = pd.DataFrame()\n",
    "for city in cities: \n",
    "    tmp = pd.read_csv('standardized/standardized_incidents_' + city + '.csv', index_col=None, dtype=str)\n",
    "    print(city, len(tmp))\n",
    "    final = pd.concat([final, tmp])"
   ]
  },
  {
   "cell_type": "code",
   "execution_count": 12,
   "metadata": {},
   "outputs": [],
   "source": [
    "final = final[(final['std_date'] >= '2018-01-01') & (final['std_date'] <= '2020-03-15')]"
   ]
  },
  {
   "cell_type": "code",
   "execution_count": 13,
   "metadata": {},
   "outputs": [
    {
     "name": "stdout",
     "output_type": "stream",
     "text": [
      "Final Shape: (4732098, 5)\n"
     ]
    }
   ],
   "source": [
    "print(\"Final Shape:\", final.shape)\n",
    "final.to_csv('final/final_incidents_2021-05-28.csv', index=False)"
   ]
  },
  {
   "cell_type": "code",
   "execution_count": 14,
   "metadata": {},
   "outputs": [
    {
     "data": {
      "text/html": [
       "<div>\n",
       "<style scoped>\n",
       "    .dataframe tbody tr th:only-of-type {\n",
       "        vertical-align: middle;\n",
       "    }\n",
       "\n",
       "    .dataframe tbody tr th {\n",
       "        vertical-align: top;\n",
       "    }\n",
       "\n",
       "    .dataframe thead th {\n",
       "        text-align: right;\n",
       "    }\n",
       "</style>\n",
       "<table border=\"1\" class=\"dataframe\">\n",
       "  <thead>\n",
       "    <tr style=\"text-align: right;\">\n",
       "      <th></th>\n",
       "      <th>std_date</th>\n",
       "      <th>city</th>\n",
       "      <th>category_1</th>\n",
       "      <th>category_2</th>\n",
       "      <th>category_3</th>\n",
       "    </tr>\n",
       "  </thead>\n",
       "  <tbody>\n",
       "    <tr>\n",
       "      <th>0</th>\n",
       "      <td>2018-01-01</td>\n",
       "      <td>Atlanta</td>\n",
       "      <td>Property</td>\n",
       "      <td>Theft</td>\n",
       "      <td>Theft from Auto</td>\n",
       "    </tr>\n",
       "    <tr>\n",
       "      <th>1</th>\n",
       "      <td>2018-01-01</td>\n",
       "      <td>Atlanta</td>\n",
       "      <td>Property</td>\n",
       "      <td>Theft</td>\n",
       "      <td>Theft from Auto</td>\n",
       "    </tr>\n",
       "    <tr>\n",
       "      <th>2</th>\n",
       "      <td>2018-01-01</td>\n",
       "      <td>Atlanta</td>\n",
       "      <td>Property</td>\n",
       "      <td>Theft</td>\n",
       "      <td>Theft from Auto</td>\n",
       "    </tr>\n",
       "    <tr>\n",
       "      <th>3</th>\n",
       "      <td>2018-01-01</td>\n",
       "      <td>Atlanta</td>\n",
       "      <td>Property</td>\n",
       "      <td>Theft</td>\n",
       "      <td>Theft from Auto</td>\n",
       "    </tr>\n",
       "    <tr>\n",
       "      <th>4</th>\n",
       "      <td>2018-01-01</td>\n",
       "      <td>Atlanta</td>\n",
       "      <td>Property</td>\n",
       "      <td>Theft</td>\n",
       "      <td>Theft from Auto</td>\n",
       "    </tr>\n",
       "  </tbody>\n",
       "</table>\n",
       "</div>"
      ],
      "text/plain": [
       "     std_date     city category_1 category_2       category_3\n",
       "0  2018-01-01  Atlanta   Property      Theft  Theft from Auto\n",
       "1  2018-01-01  Atlanta   Property      Theft  Theft from Auto\n",
       "2  2018-01-01  Atlanta   Property      Theft  Theft from Auto\n",
       "3  2018-01-01  Atlanta   Property      Theft  Theft from Auto\n",
       "4  2018-01-01  Atlanta   Property      Theft  Theft from Auto"
      ]
     },
     "execution_count": 14,
     "metadata": {},
     "output_type": "execute_result"
    }
   ],
   "source": [
    "final.head()"
   ]
  },
  {
   "cell_type": "code",
   "execution_count": null,
   "metadata": {},
   "outputs": [],
   "source": []
  }
 ],
 "metadata": {
  "kernelspec": {
   "display_name": "Python 3",
   "language": "python",
   "name": "python3"
  },
  "language_info": {
   "codemirror_mode": {
    "name": "ipython",
    "version": 3
   },
   "file_extension": ".py",
   "mimetype": "text/x-python",
   "name": "python",
   "nbconvert_exporter": "python",
   "pygments_lexer": "ipython3",
   "version": "3.8.3"
  }
 },
 "nbformat": 4,
 "nbformat_minor": 4
}
