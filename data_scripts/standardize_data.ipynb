{
 "cells": [
  {
   "cell_type": "code",
   "execution_count": 1,
   "metadata": {},
   "outputs": [],
   "source": [
    "import numpy as np, pandas as pd\n",
    "from datetime import datetime"
   ]
  },
  {
   "cell_type": "code",
   "execution_count": 2,
   "metadata": {},
   "outputs": [],
   "source": [
    "start_date = datetime(2018, 1, 1).date()\n",
    "end_date = datetime(2020, 3, 15).date()"
   ]
  },
  {
   "cell_type": "code",
   "execution_count": 3,
   "metadata": {},
   "outputs": [],
   "source": [
    "def standardize_datetime_one_arg(df, col, date_format): \n",
    "    def date_fn(d, date_format): \n",
    "        if type(d) == float or d == 'nan':\n",
    "            return datetime.strptime('2000-01-01', '%Y-%m-%d').date() # will get filtered out\n",
    "        return datetime.strptime(d, date_format).date()\n",
    "\n",
    "    df['std_date'] = df[col].apply(date_fn, args=(date_format,))\n",
    "    df = df[(df['std_date'] >= start_date) & (df['std_date'] <= end_date)]\n",
    "    return df\n",
    "                                   \n",
    "def standardize_datetime_two_args(df, col1, date_format1, col2, date_format2):\n",
    "    def date_fn(row, col1, date_format1, col2, date_format2):\n",
    "        d1 = str(row[col1])\n",
    "        d2 = str(row[col2])\n",
    "        if type(d1) != float and d1 != 'nan':\n",
    "            return datetime.strptime(d1, date_format1).date()\n",
    "        elif type(d2) != float and d2 != 'nan': \n",
    "            return datetime.strptime(d2, date_format2).date()        \n",
    "        else: \n",
    "            return datetime.strptime('2000-01-01', '%Y-%m-%d').date() # will get filtered out\n",
    "    \n",
    "    df['std_date'] = df.apply(date_fn, args=(col1, date_format1, col2, date_format2), axis=1)\n",
    "    df = df[(df['std_date'] >= start_date) & (df['std_date'] <= end_date)]\n",
    "    return df"
   ]
  },
  {
   "cell_type": "code",
   "execution_count": 4,
   "metadata": {},
   "outputs": [],
   "source": [
    "def standardize_with_mapping(df, city_name, file_name, mapping_columns):\n",
    "    mapping = pd.read_csv('mappings/mapping_' + file_name + '.csv', index_col=None, dtype=str)\n",
    "    df['join_key'] = ''\n",
    "    mapping['join_key'] = ''\n",
    "    for key in mapping_columns: \n",
    "        df['join_key'] = df['join_key'] + df[key].fillna('').astype(str)\n",
    "        mapping['join_key'] = mapping['join_key'] + mapping[key].fillna('').astype(str)\n",
    "\n",
    "    ### DROPOUT ###\n",
    "    dropout = pd.merge(df, mapping, how='left', on='join_key')\n",
    "    print(\"Dropout:\", dropout[dropout['category_1'].astype(str) == 'nan'].shape)\n",
    "    ###############\n",
    "\n",
    "    df = pd.merge(df, mapping, how='inner', on='join_key')\n",
    "    df['city'] = city_name\n",
    "    df = df[['std_date', 'city', 'category_1', 'category_2', 'category_3']]\n",
    "    df.to_csv('standardized/standardized_incidents_' + file_name + '.csv', index=False)\n",
    "    print('Length: ', len(df))\n",
    "    return df"
   ]
  },
  {
   "cell_type": "markdown",
   "metadata": {},
   "source": [
    "# Atlanta"
   ]
  },
  {
   "cell_type": "code",
   "execution_count": 5,
   "metadata": {},
   "outputs": [],
   "source": [
    "city_name = 'Atlanta'\n",
    "file_name = 'atlanta'\n",
    "mapping_columns = ['UC2_Literal']\n",
    "\n",
    "# date_col1 = \n",
    "# date_format1 = \n",
    "# date_col2 = \n",
    "# date_format2 = "
   ]
  },
  {
   "cell_type": "code",
   "execution_count": 6,
   "metadata": {},
   "outputs": [
    {
     "name": "stderr",
     "output_type": "stream",
     "text": [
      "C:\\Users\\kooan\\anaconda3\\lib\\site-packages\\IPython\\core\\interactiveshell.py:3071: DtypeWarning: Columns (3,11) have mixed types.Specify dtype option on import or set low_memory=False.\n",
      "  has_raised = await self.run_ast_nodes(code_ast.body, cell_name,\n"
     ]
    },
    {
     "name": "stdout",
     "output_type": "stream",
     "text": [
      "Dropout: (0, 8)\n",
      "Length:  85337\n"
     ]
    },
    {
     "data": {
      "text/html": [
       "<div>\n",
       "<style scoped>\n",
       "    .dataframe tbody tr th:only-of-type {\n",
       "        vertical-align: middle;\n",
       "    }\n",
       "\n",
       "    .dataframe tbody tr th {\n",
       "        vertical-align: top;\n",
       "    }\n",
       "\n",
       "    .dataframe thead th {\n",
       "        text-align: right;\n",
       "    }\n",
       "</style>\n",
       "<table border=\"1\" class=\"dataframe\">\n",
       "  <thead>\n",
       "    <tr style=\"text-align: right;\">\n",
       "      <th></th>\n",
       "      <th>std_date</th>\n",
       "      <th>city</th>\n",
       "      <th>category_1</th>\n",
       "      <th>category_2</th>\n",
       "      <th>category_3</th>\n",
       "    </tr>\n",
       "  </thead>\n",
       "  <tbody>\n",
       "    <tr>\n",
       "      <th>0</th>\n",
       "      <td>2018-01-01</td>\n",
       "      <td>Atlanta</td>\n",
       "      <td>Property</td>\n",
       "      <td>Theft</td>\n",
       "      <td>Theft from Auto</td>\n",
       "    </tr>\n",
       "    <tr>\n",
       "      <th>1</th>\n",
       "      <td>2018-01-01</td>\n",
       "      <td>Atlanta</td>\n",
       "      <td>Property</td>\n",
       "      <td>Theft</td>\n",
       "      <td>Theft from Auto</td>\n",
       "    </tr>\n",
       "    <tr>\n",
       "      <th>2</th>\n",
       "      <td>2018-01-01</td>\n",
       "      <td>Atlanta</td>\n",
       "      <td>Property</td>\n",
       "      <td>Theft</td>\n",
       "      <td>Theft from Auto</td>\n",
       "    </tr>\n",
       "    <tr>\n",
       "      <th>3</th>\n",
       "      <td>2018-01-01</td>\n",
       "      <td>Atlanta</td>\n",
       "      <td>Property</td>\n",
       "      <td>Theft</td>\n",
       "      <td>Theft from Auto</td>\n",
       "    </tr>\n",
       "    <tr>\n",
       "      <th>4</th>\n",
       "      <td>2018-01-01</td>\n",
       "      <td>Atlanta</td>\n",
       "      <td>Property</td>\n",
       "      <td>Theft</td>\n",
       "      <td>Theft from Auto</td>\n",
       "    </tr>\n",
       "  </tbody>\n",
       "</table>\n",
       "</div>"
      ],
      "text/plain": [
       "     std_date     city category_1 category_2       category_3\n",
       "0  2018-01-01  Atlanta   Property      Theft  Theft from Auto\n",
       "1  2018-01-01  Atlanta   Property      Theft  Theft from Auto\n",
       "2  2018-01-01  Atlanta   Property      Theft  Theft from Auto\n",
       "3  2018-01-01  Atlanta   Property      Theft  Theft from Auto\n",
       "4  2018-01-01  Atlanta   Property      Theft  Theft from Auto"
      ]
     },
     "execution_count": 6,
     "metadata": {},
     "output_type": "execute_result"
    }
   ],
   "source": [
    "# Read raw\n",
    "atl1 = pd.read_csv('raw/raw_incidents_atlanta/COBRA-2009-2019 (Updated 1_9_2020)/COBRA-2009-2019.csv', index_col=None)\n",
    "atl2 = pd.read_csv('raw/raw_incidents_atlanta/COBRA-2020 Old RMS data to 09_29_2020/COBRA-2020-OldRMS-09292020.csv', index_col=None)\n",
    "atl3 = pd.read_csv('raw/raw_incidents_atlanta/COBRA-2020 New RMS from 9_30_20 (Updated 10_22_2020)/COBRA-2020.csv', index_col=None)\n",
    "atl1 = atl1.rename(columns={'Report Number':'offense_id',\n",
    "                            'Report Date':'rpt_date',\n",
    "                            'Occur Date':'occur_date',\n",
    "                            'UCR Literal':'UC2_Literal'})\n",
    "\n",
    "# Datetime\n",
    "atl1 = standardize_datetime_two_args(atl1, 'occur_date', '%Y-%m-%d', 'rpt_date', '%Y-%m-%d')\n",
    "atl2 = standardize_datetime_two_args(atl2, 'occur_date', '%m/%d/%Y', 'rpt_date', '%m/%d/%Y')\n",
    "atl3 = standardize_datetime_two_args(atl3, 'occur_date', '%m/%d/%Y', 'rpt_date', '%m/%d/%Y')\n",
    "\n",
    "atl1 = atl1[['offense_id', 'std_date', 'UC2_Literal']]\n",
    "atl2 = atl2[['offense_id', 'std_date', 'UC2_Literal']]\n",
    "atl3 = atl3[['offense_id', 'std_date', 'UC2_Literal']]\n",
    "\n",
    "std = pd.concat([atl1, atl2, atl3], sort=True)\n",
    "std = standardize_with_mapping(std, city_name, file_name, mapping_columns)\n",
    "std.head()"
   ]
  },
  {
   "cell_type": "markdown",
   "metadata": {},
   "source": [
    "# Austin"
   ]
  },
  {
   "cell_type": "code",
   "execution_count": 7,
   "metadata": {},
   "outputs": [],
   "source": [
    "city_name = 'Austin'\n",
    "file_name = 'austin'\n",
    "mapping_columns = ['crime_type', 'ucr_code']\n",
    "\n",
    "date_col1 = 'occ_date'\n",
    "date_format1 = '%Y-%m-%dT%H:%M:%S.%f'\n",
    "# date_col2 = \n",
    "# date_format2 = "
   ]
  },
  {
   "cell_type": "code",
   "execution_count": 8,
   "metadata": {},
   "outputs": [
    {
     "name": "stdout",
     "output_type": "stream",
     "text": [
      "Dropout: (78448, 38)\n",
      "Length:  152892\n"
     ]
    },
    {
     "data": {
      "text/html": [
       "<div>\n",
       "<style scoped>\n",
       "    .dataframe tbody tr th:only-of-type {\n",
       "        vertical-align: middle;\n",
       "    }\n",
       "\n",
       "    .dataframe tbody tr th {\n",
       "        vertical-align: top;\n",
       "    }\n",
       "\n",
       "    .dataframe thead th {\n",
       "        text-align: right;\n",
       "    }\n",
       "</style>\n",
       "<table border=\"1\" class=\"dataframe\">\n",
       "  <thead>\n",
       "    <tr style=\"text-align: right;\">\n",
       "      <th></th>\n",
       "      <th>std_date</th>\n",
       "      <th>city</th>\n",
       "      <th>category_1</th>\n",
       "      <th>category_2</th>\n",
       "      <th>category_3</th>\n",
       "    </tr>\n",
       "  </thead>\n",
       "  <tbody>\n",
       "    <tr>\n",
       "      <th>0</th>\n",
       "      <td>2020-03-15</td>\n",
       "      <td>Austin</td>\n",
       "      <td>Drug</td>\n",
       "      <td>Drug</td>\n",
       "      <td>Drug</td>\n",
       "    </tr>\n",
       "    <tr>\n",
       "      <th>1</th>\n",
       "      <td>2020-03-14</td>\n",
       "      <td>Austin</td>\n",
       "      <td>Drug</td>\n",
       "      <td>Drug</td>\n",
       "      <td>Drug</td>\n",
       "    </tr>\n",
       "    <tr>\n",
       "      <th>2</th>\n",
       "      <td>2020-03-12</td>\n",
       "      <td>Austin</td>\n",
       "      <td>Drug</td>\n",
       "      <td>Drug</td>\n",
       "      <td>Drug</td>\n",
       "    </tr>\n",
       "    <tr>\n",
       "      <th>3</th>\n",
       "      <td>2020-03-10</td>\n",
       "      <td>Austin</td>\n",
       "      <td>Drug</td>\n",
       "      <td>Drug</td>\n",
       "      <td>Drug</td>\n",
       "    </tr>\n",
       "    <tr>\n",
       "      <th>4</th>\n",
       "      <td>2020-03-06</td>\n",
       "      <td>Austin</td>\n",
       "      <td>Drug</td>\n",
       "      <td>Drug</td>\n",
       "      <td>Drug</td>\n",
       "    </tr>\n",
       "  </tbody>\n",
       "</table>\n",
       "</div>"
      ],
      "text/plain": [
       "     std_date    city category_1 category_2 category_3\n",
       "0  2020-03-15  Austin       Drug       Drug       Drug\n",
       "1  2020-03-14  Austin       Drug       Drug       Drug\n",
       "2  2020-03-12  Austin       Drug       Drug       Drug\n",
       "3  2020-03-10  Austin       Drug       Drug       Drug\n",
       "4  2020-03-06  Austin       Drug       Drug       Drug"
      ]
     },
     "execution_count": 8,
     "metadata": {},
     "output_type": "execute_result"
    }
   ],
   "source": [
    "std = pd.read_csv('raw/raw_incidents_' + file_name + '.csv', index_col=None, dtype=str)\n",
    "std = standardize_datetime_one_arg(std, date_col1, date_format1)\n",
    "std = standardize_with_mapping(std, city_name, file_name, mapping_columns)\n",
    "std.head()"
   ]
  },
  {
   "cell_type": "markdown",
   "metadata": {},
   "source": [
    "# Baltimore"
   ]
  },
  {
   "cell_type": "code",
   "execution_count": 9,
   "metadata": {},
   "outputs": [],
   "source": [
    "city_name = 'Baltimore'\n",
    "file_name = 'baltimore'\n",
    "mapping_columns = ['Description']\n",
    "\n",
    "date_col1 = 'CrimeDateTime'\n",
    "date_format1 = '%Y/%m/%d %H:%M:%S+%f'\n",
    "# date_col2 = \n",
    "# date_format2 = "
   ]
  },
  {
   "cell_type": "code",
   "execution_count": 10,
   "metadata": {},
   "outputs": [
    {
     "name": "stdout",
     "output_type": "stream",
     "text": [
      "Dropout: (1539, 24)\n",
      "Length:  101253\n"
     ]
    },
    {
     "data": {
      "text/html": [
       "<div>\n",
       "<style scoped>\n",
       "    .dataframe tbody tr th:only-of-type {\n",
       "        vertical-align: middle;\n",
       "    }\n",
       "\n",
       "    .dataframe tbody tr th {\n",
       "        vertical-align: top;\n",
       "    }\n",
       "\n",
       "    .dataframe thead th {\n",
       "        text-align: right;\n",
       "    }\n",
       "</style>\n",
       "<table border=\"1\" class=\"dataframe\">\n",
       "  <thead>\n",
       "    <tr style=\"text-align: right;\">\n",
       "      <th></th>\n",
       "      <th>std_date</th>\n",
       "      <th>city</th>\n",
       "      <th>category_1</th>\n",
       "      <th>category_2</th>\n",
       "      <th>category_3</th>\n",
       "    </tr>\n",
       "  </thead>\n",
       "  <tbody>\n",
       "    <tr>\n",
       "      <th>0</th>\n",
       "      <td>2020-03-15</td>\n",
       "      <td>Baltimore</td>\n",
       "      <td>Violent</td>\n",
       "      <td>Homicide</td>\n",
       "      <td>Unclassified</td>\n",
       "    </tr>\n",
       "    <tr>\n",
       "      <th>1</th>\n",
       "      <td>2020-03-15</td>\n",
       "      <td>Baltimore</td>\n",
       "      <td>Violent</td>\n",
       "      <td>Homicide</td>\n",
       "      <td>Unclassified</td>\n",
       "    </tr>\n",
       "    <tr>\n",
       "      <th>2</th>\n",
       "      <td>2020-03-13</td>\n",
       "      <td>Baltimore</td>\n",
       "      <td>Violent</td>\n",
       "      <td>Homicide</td>\n",
       "      <td>Unclassified</td>\n",
       "    </tr>\n",
       "    <tr>\n",
       "      <th>3</th>\n",
       "      <td>2020-03-10</td>\n",
       "      <td>Baltimore</td>\n",
       "      <td>Violent</td>\n",
       "      <td>Homicide</td>\n",
       "      <td>Unclassified</td>\n",
       "    </tr>\n",
       "    <tr>\n",
       "      <th>4</th>\n",
       "      <td>2020-03-09</td>\n",
       "      <td>Baltimore</td>\n",
       "      <td>Violent</td>\n",
       "      <td>Homicide</td>\n",
       "      <td>Unclassified</td>\n",
       "    </tr>\n",
       "  </tbody>\n",
       "</table>\n",
       "</div>"
      ],
      "text/plain": [
       "     std_date       city category_1 category_2    category_3\n",
       "0  2020-03-15  Baltimore    Violent   Homicide  Unclassified\n",
       "1  2020-03-15  Baltimore    Violent   Homicide  Unclassified\n",
       "2  2020-03-13  Baltimore    Violent   Homicide  Unclassified\n",
       "3  2020-03-10  Baltimore    Violent   Homicide  Unclassified\n",
       "4  2020-03-09  Baltimore    Violent   Homicide  Unclassified"
      ]
     },
     "execution_count": 10,
     "metadata": {},
     "output_type": "execute_result"
    }
   ],
   "source": [
    "std = pd.read_csv('raw/raw_incidents_' + file_name + '.csv', index_col=None, dtype=str)\n",
    "std = standardize_datetime_one_arg(std, date_col1, date_format1)\n",
    "std = standardize_with_mapping(std, city_name, file_name, mapping_columns)\n",
    "std.head()"
   ]
  },
  {
   "cell_type": "markdown",
   "metadata": {},
   "source": [
    "# Boston"
   ]
  },
  {
   "cell_type": "code",
   "execution_count": 11,
   "metadata": {},
   "outputs": [],
   "source": [
    "city_name = 'Boston'\n",
    "file_name = 'boston'\n",
    "mapping_columns = ['OFFENSE_DESCRIPTION']\n",
    "\n",
    "date_col1 = 'OCCURRED_ON_DATE'\n",
    "date_format1 = '%Y-%m-%d %H:%M:%S'\n",
    "# date_col2 = \n",
    "# date_format2 = "
   ]
  },
  {
   "cell_type": "code",
   "execution_count": 12,
   "metadata": {},
   "outputs": [
    {
     "name": "stdout",
     "output_type": "stream",
     "text": [
      "Dropout: (127319, 23)\n",
      "Length:  88936\n"
     ]
    },
    {
     "data": {
      "text/html": [
       "<div>\n",
       "<style scoped>\n",
       "    .dataframe tbody tr th:only-of-type {\n",
       "        vertical-align: middle;\n",
       "    }\n",
       "\n",
       "    .dataframe tbody tr th {\n",
       "        vertical-align: top;\n",
       "    }\n",
       "\n",
       "    .dataframe thead th {\n",
       "        text-align: right;\n",
       "    }\n",
       "</style>\n",
       "<table border=\"1\" class=\"dataframe\">\n",
       "  <thead>\n",
       "    <tr style=\"text-align: right;\">\n",
       "      <th></th>\n",
       "      <th>std_date</th>\n",
       "      <th>city</th>\n",
       "      <th>category_1</th>\n",
       "      <th>category_2</th>\n",
       "      <th>category_3</th>\n",
       "    </tr>\n",
       "  </thead>\n",
       "  <tbody>\n",
       "    <tr>\n",
       "      <th>0</th>\n",
       "      <td>2019-10-16</td>\n",
       "      <td>Boston</td>\n",
       "      <td>Violent</td>\n",
       "      <td>Assault</td>\n",
       "      <td>Aggravated Assault</td>\n",
       "    </tr>\n",
       "    <tr>\n",
       "      <th>1</th>\n",
       "      <td>2019-09-29</td>\n",
       "      <td>Boston</td>\n",
       "      <td>Violent</td>\n",
       "      <td>Assault</td>\n",
       "      <td>Aggravated Assault</td>\n",
       "    </tr>\n",
       "    <tr>\n",
       "      <th>2</th>\n",
       "      <td>2019-09-29</td>\n",
       "      <td>Boston</td>\n",
       "      <td>Violent</td>\n",
       "      <td>Assault</td>\n",
       "      <td>Aggravated Assault</td>\n",
       "    </tr>\n",
       "    <tr>\n",
       "      <th>3</th>\n",
       "      <td>2019-09-28</td>\n",
       "      <td>Boston</td>\n",
       "      <td>Violent</td>\n",
       "      <td>Assault</td>\n",
       "      <td>Aggravated Assault</td>\n",
       "    </tr>\n",
       "    <tr>\n",
       "      <th>4</th>\n",
       "      <td>2019-09-28</td>\n",
       "      <td>Boston</td>\n",
       "      <td>Violent</td>\n",
       "      <td>Assault</td>\n",
       "      <td>Aggravated Assault</td>\n",
       "    </tr>\n",
       "  </tbody>\n",
       "</table>\n",
       "</div>"
      ],
      "text/plain": [
       "     std_date    city category_1 category_2          category_3\n",
       "0  2019-10-16  Boston    Violent    Assault  Aggravated Assault\n",
       "1  2019-09-29  Boston    Violent    Assault  Aggravated Assault\n",
       "2  2019-09-29  Boston    Violent    Assault  Aggravated Assault\n",
       "3  2019-09-28  Boston    Violent    Assault  Aggravated Assault\n",
       "4  2019-09-28  Boston    Violent    Assault  Aggravated Assault"
      ]
     },
     "execution_count": 12,
     "metadata": {},
     "output_type": "execute_result"
    }
   ],
   "source": [
    "std = pd.read_csv('raw/raw_incidents_' + file_name + '.csv', index_col=None, dtype=str)\n",
    "std = standardize_datetime_one_arg(std, date_col1, date_format1)\n",
    "std = standardize_with_mapping(std, city_name, file_name, mapping_columns)\n",
    "std.head()"
   ]
  },
  {
   "cell_type": "markdown",
   "metadata": {},
   "source": [
    "# Chicago"
   ]
  },
  {
   "cell_type": "code",
   "execution_count": 13,
   "metadata": {},
   "outputs": [],
   "source": [
    "city_name = 'Chicago'\n",
    "file_name = 'chicago'\n",
    "mapping_columns = ['iucr']\n",
    "\n",
    "date_col1 = 'date'\n",
    "date_format1 = '%Y-%m-%dT%H:%M:%S.%f'\n",
    "# date_col2 = \n",
    "# date_format2 = "
   ]
  },
  {
   "cell_type": "code",
   "execution_count": 14,
   "metadata": {},
   "outputs": [
    {
     "name": "stdout",
     "output_type": "stream",
     "text": [
      "Dropout: (71197, 28)\n",
      "Length:  516614\n"
     ]
    },
    {
     "data": {
      "text/html": [
       "<div>\n",
       "<style scoped>\n",
       "    .dataframe tbody tr th:only-of-type {\n",
       "        vertical-align: middle;\n",
       "    }\n",
       "\n",
       "    .dataframe tbody tr th {\n",
       "        vertical-align: top;\n",
       "    }\n",
       "\n",
       "    .dataframe thead th {\n",
       "        text-align: right;\n",
       "    }\n",
       "</style>\n",
       "<table border=\"1\" class=\"dataframe\">\n",
       "  <thead>\n",
       "    <tr style=\"text-align: right;\">\n",
       "      <th></th>\n",
       "      <th>std_date</th>\n",
       "      <th>city</th>\n",
       "      <th>category_1</th>\n",
       "      <th>category_2</th>\n",
       "      <th>category_3</th>\n",
       "    </tr>\n",
       "  </thead>\n",
       "  <tbody>\n",
       "    <tr>\n",
       "      <th>0</th>\n",
       "      <td>2018-01-01</td>\n",
       "      <td>Chicago</td>\n",
       "      <td>Property</td>\n",
       "      <td>White Collar</td>\n",
       "      <td>Fraud</td>\n",
       "    </tr>\n",
       "    <tr>\n",
       "      <th>1</th>\n",
       "      <td>2018-01-01</td>\n",
       "      <td>Chicago</td>\n",
       "      <td>Property</td>\n",
       "      <td>White Collar</td>\n",
       "      <td>Fraud</td>\n",
       "    </tr>\n",
       "    <tr>\n",
       "      <th>2</th>\n",
       "      <td>2018-01-01</td>\n",
       "      <td>Chicago</td>\n",
       "      <td>Property</td>\n",
       "      <td>White Collar</td>\n",
       "      <td>Fraud</td>\n",
       "    </tr>\n",
       "    <tr>\n",
       "      <th>3</th>\n",
       "      <td>2018-01-01</td>\n",
       "      <td>Chicago</td>\n",
       "      <td>Property</td>\n",
       "      <td>White Collar</td>\n",
       "      <td>Fraud</td>\n",
       "    </tr>\n",
       "    <tr>\n",
       "      <th>4</th>\n",
       "      <td>2018-01-01</td>\n",
       "      <td>Chicago</td>\n",
       "      <td>Property</td>\n",
       "      <td>White Collar</td>\n",
       "      <td>Fraud</td>\n",
       "    </tr>\n",
       "  </tbody>\n",
       "</table>\n",
       "</div>"
      ],
      "text/plain": [
       "     std_date     city category_1    category_2 category_3\n",
       "0  2018-01-01  Chicago   Property  White Collar      Fraud\n",
       "1  2018-01-01  Chicago   Property  White Collar      Fraud\n",
       "2  2018-01-01  Chicago   Property  White Collar      Fraud\n",
       "3  2018-01-01  Chicago   Property  White Collar      Fraud\n",
       "4  2018-01-01  Chicago   Property  White Collar      Fraud"
      ]
     },
     "execution_count": 14,
     "metadata": {},
     "output_type": "execute_result"
    }
   ],
   "source": [
    "std = pd.read_csv('raw/raw_incidents_' + file_name + '.csv', index_col=None, dtype=str)\n",
    "std = standardize_datetime_one_arg(std, date_col1, date_format1)\n",
    "std = standardize_with_mapping(std, city_name, file_name, mapping_columns)\n",
    "std.head()"
   ]
  },
  {
   "cell_type": "markdown",
   "metadata": {},
   "source": [
    "# Cincinnati"
   ]
  },
  {
   "cell_type": "code",
   "execution_count": 15,
   "metadata": {},
   "outputs": [],
   "source": [
    "city_name = 'Cincinnati'\n",
    "file_name = 'cincinnati'\n",
    "mapping_columns = ['ucr_group', 'offense']\n",
    "\n",
    "date_col1 = 'date_from'\n",
    "date_format1 = '%Y-%m-%dT%H:%M:%S.%f'\n",
    "date_col2 = 'date_reported'\n",
    "date_format2 = '%Y-%m-%dT%H:%M:%S.%f'"
   ]
  },
  {
   "cell_type": "code",
   "execution_count": 16,
   "metadata": {},
   "outputs": [
    {
     "name": "stdout",
     "output_type": "stream",
     "text": [
      "Dropout: (14139, 47)\n",
      "Length:  63966\n"
     ]
    },
    {
     "data": {
      "text/html": [
       "<div>\n",
       "<style scoped>\n",
       "    .dataframe tbody tr th:only-of-type {\n",
       "        vertical-align: middle;\n",
       "    }\n",
       "\n",
       "    .dataframe tbody tr th {\n",
       "        vertical-align: top;\n",
       "    }\n",
       "\n",
       "    .dataframe thead th {\n",
       "        text-align: right;\n",
       "    }\n",
       "</style>\n",
       "<table border=\"1\" class=\"dataframe\">\n",
       "  <thead>\n",
       "    <tr style=\"text-align: right;\">\n",
       "      <th></th>\n",
       "      <th>std_date</th>\n",
       "      <th>city</th>\n",
       "      <th>category_1</th>\n",
       "      <th>category_2</th>\n",
       "      <th>category_3</th>\n",
       "    </tr>\n",
       "  </thead>\n",
       "  <tbody>\n",
       "    <tr>\n",
       "      <th>0</th>\n",
       "      <td>2019-02-16</td>\n",
       "      <td>Cincinnati</td>\n",
       "      <td>Violent</td>\n",
       "      <td>Rape</td>\n",
       "      <td>Rape</td>\n",
       "    </tr>\n",
       "    <tr>\n",
       "      <th>1</th>\n",
       "      <td>2018-05-01</td>\n",
       "      <td>Cincinnati</td>\n",
       "      <td>Violent</td>\n",
       "      <td>Rape</td>\n",
       "      <td>Rape</td>\n",
       "    </tr>\n",
       "    <tr>\n",
       "      <th>2</th>\n",
       "      <td>2019-02-05</td>\n",
       "      <td>Cincinnati</td>\n",
       "      <td>Violent</td>\n",
       "      <td>Rape</td>\n",
       "      <td>Rape</td>\n",
       "    </tr>\n",
       "    <tr>\n",
       "      <th>3</th>\n",
       "      <td>2018-01-05</td>\n",
       "      <td>Cincinnati</td>\n",
       "      <td>Violent</td>\n",
       "      <td>Rape</td>\n",
       "      <td>Rape</td>\n",
       "    </tr>\n",
       "    <tr>\n",
       "      <th>4</th>\n",
       "      <td>2018-05-27</td>\n",
       "      <td>Cincinnati</td>\n",
       "      <td>Violent</td>\n",
       "      <td>Rape</td>\n",
       "      <td>Rape</td>\n",
       "    </tr>\n",
       "  </tbody>\n",
       "</table>\n",
       "</div>"
      ],
      "text/plain": [
       "     std_date        city category_1 category_2 category_3\n",
       "0  2019-02-16  Cincinnati    Violent       Rape       Rape\n",
       "1  2018-05-01  Cincinnati    Violent       Rape       Rape\n",
       "2  2019-02-05  Cincinnati    Violent       Rape       Rape\n",
       "3  2018-01-05  Cincinnati    Violent       Rape       Rape\n",
       "4  2018-05-27  Cincinnati    Violent       Rape       Rape"
      ]
     },
     "execution_count": 16,
     "metadata": {},
     "output_type": "execute_result"
    }
   ],
   "source": [
    "std = pd.read_csv('raw/raw_incidents_' + file_name + '.csv', index_col=None, dtype=str)\n",
    "std = standardize_datetime_two_args(std, date_col1, date_format1, date_col2, date_format2)\n",
    "std = standardize_with_mapping(std, city_name, file_name, mapping_columns)\n",
    "std.head()"
   ]
  },
  {
   "cell_type": "markdown",
   "metadata": {},
   "source": [
    "# Dallas"
   ]
  },
  {
   "cell_type": "code",
   "execution_count": 17,
   "metadata": {},
   "outputs": [],
   "source": [
    "city_name = 'Dallas'\n",
    "file_name = 'dallas'\n",
    "mapping_columns = ['ucr_offense', 'nibrs_crime', 'nibrs_crime_category']\n",
    "\n",
    "date_col1 = 'date1'\n",
    "date_format1 = '%Y-%m-%d %H:%M:%S.0%f'\n",
    "# date_col2 = \n",
    "# date_format2 = "
   ]
  },
  {
   "cell_type": "code",
   "execution_count": 18,
   "metadata": {},
   "outputs": [
    {
     "name": "stdout",
     "output_type": "stream",
     "text": [
      "Dropout: (107033, 107)\n",
      "Length:  170799\n"
     ]
    },
    {
     "data": {
      "text/html": [
       "<div>\n",
       "<style scoped>\n",
       "    .dataframe tbody tr th:only-of-type {\n",
       "        vertical-align: middle;\n",
       "    }\n",
       "\n",
       "    .dataframe tbody tr th {\n",
       "        vertical-align: top;\n",
       "    }\n",
       "\n",
       "    .dataframe thead th {\n",
       "        text-align: right;\n",
       "    }\n",
       "</style>\n",
       "<table border=\"1\" class=\"dataframe\">\n",
       "  <thead>\n",
       "    <tr style=\"text-align: right;\">\n",
       "      <th></th>\n",
       "      <th>std_date</th>\n",
       "      <th>city</th>\n",
       "      <th>category_1</th>\n",
       "      <th>category_2</th>\n",
       "      <th>category_3</th>\n",
       "    </tr>\n",
       "  </thead>\n",
       "  <tbody>\n",
       "    <tr>\n",
       "      <th>0</th>\n",
       "      <td>2019-09-04</td>\n",
       "      <td>Dallas</td>\n",
       "      <td>Property</td>\n",
       "      <td>Other Property Crime</td>\n",
       "      <td>Other Property Crime</td>\n",
       "    </tr>\n",
       "    <tr>\n",
       "      <th>1</th>\n",
       "      <td>2018-07-08</td>\n",
       "      <td>Dallas</td>\n",
       "      <td>Property</td>\n",
       "      <td>Other Property Crime</td>\n",
       "      <td>Other Property Crime</td>\n",
       "    </tr>\n",
       "    <tr>\n",
       "      <th>2</th>\n",
       "      <td>2018-07-08</td>\n",
       "      <td>Dallas</td>\n",
       "      <td>Property</td>\n",
       "      <td>Other Property Crime</td>\n",
       "      <td>Other Property Crime</td>\n",
       "    </tr>\n",
       "    <tr>\n",
       "      <th>3</th>\n",
       "      <td>2018-08-02</td>\n",
       "      <td>Dallas</td>\n",
       "      <td>Property</td>\n",
       "      <td>Other Property Crime</td>\n",
       "      <td>Other Property Crime</td>\n",
       "    </tr>\n",
       "    <tr>\n",
       "      <th>4</th>\n",
       "      <td>2018-07-08</td>\n",
       "      <td>Dallas</td>\n",
       "      <td>Property</td>\n",
       "      <td>Other Property Crime</td>\n",
       "      <td>Other Property Crime</td>\n",
       "    </tr>\n",
       "  </tbody>\n",
       "</table>\n",
       "</div>"
      ],
      "text/plain": [
       "     std_date    city category_1            category_2            category_3\n",
       "0  2019-09-04  Dallas   Property  Other Property Crime  Other Property Crime\n",
       "1  2018-07-08  Dallas   Property  Other Property Crime  Other Property Crime\n",
       "2  2018-07-08  Dallas   Property  Other Property Crime  Other Property Crime\n",
       "3  2018-08-02  Dallas   Property  Other Property Crime  Other Property Crime\n",
       "4  2018-07-08  Dallas   Property  Other Property Crime  Other Property Crime"
      ]
     },
     "execution_count": 18,
     "metadata": {},
     "output_type": "execute_result"
    }
   ],
   "source": [
    "std = pd.read_csv('raw/raw_incidents_' + file_name + '.csv', index_col=None, dtype=str)\n",
    "std = standardize_datetime_one_arg(std, date_col1, date_format1)\n",
    "std = standardize_with_mapping(std, city_name, file_name, mapping_columns)\n",
    "std.head()"
   ]
  },
  {
   "cell_type": "markdown",
   "metadata": {},
   "source": [
    "# Detroit"
   ]
  },
  {
   "cell_type": "code",
   "execution_count": 19,
   "metadata": {},
   "outputs": [],
   "source": [
    "city_name = 'Detroit'\n",
    "file_name = 'detroit'\n",
    "mapping_columns = ['offense_category']\n",
    "\n",
    "date_col1 = 'incident_timestamp'\n",
    "date_format1 = '%Y/%m/%d %H:%M:%S+00'\n",
    "# date_col2 = \n",
    "# date_format2 = "
   ]
  },
  {
   "cell_type": "code",
   "execution_count": 20,
   "metadata": {},
   "outputs": [
    {
     "name": "stdout",
     "output_type": "stream",
     "text": [
      "Dropout: (16489, 30)\n",
      "Length:  160386\n"
     ]
    },
    {
     "data": {
      "text/html": [
       "<div>\n",
       "<style scoped>\n",
       "    .dataframe tbody tr th:only-of-type {\n",
       "        vertical-align: middle;\n",
       "    }\n",
       "\n",
       "    .dataframe tbody tr th {\n",
       "        vertical-align: top;\n",
       "    }\n",
       "\n",
       "    .dataframe thead th {\n",
       "        text-align: right;\n",
       "    }\n",
       "</style>\n",
       "<table border=\"1\" class=\"dataframe\">\n",
       "  <thead>\n",
       "    <tr style=\"text-align: right;\">\n",
       "      <th></th>\n",
       "      <th>std_date</th>\n",
       "      <th>city</th>\n",
       "      <th>category_1</th>\n",
       "      <th>category_2</th>\n",
       "      <th>category_3</th>\n",
       "    </tr>\n",
       "  </thead>\n",
       "  <tbody>\n",
       "    <tr>\n",
       "      <th>0</th>\n",
       "      <td>2018-01-09</td>\n",
       "      <td>Detroit</td>\n",
       "      <td>Violent</td>\n",
       "      <td>Robbery</td>\n",
       "      <td>Robbery</td>\n",
       "    </tr>\n",
       "    <tr>\n",
       "      <th>1</th>\n",
       "      <td>2018-01-21</td>\n",
       "      <td>Detroit</td>\n",
       "      <td>Violent</td>\n",
       "      <td>Robbery</td>\n",
       "      <td>Robbery</td>\n",
       "    </tr>\n",
       "    <tr>\n",
       "      <th>2</th>\n",
       "      <td>2018-01-23</td>\n",
       "      <td>Detroit</td>\n",
       "      <td>Violent</td>\n",
       "      <td>Robbery</td>\n",
       "      <td>Robbery</td>\n",
       "    </tr>\n",
       "    <tr>\n",
       "      <th>3</th>\n",
       "      <td>2018-01-28</td>\n",
       "      <td>Detroit</td>\n",
       "      <td>Violent</td>\n",
       "      <td>Robbery</td>\n",
       "      <td>Robbery</td>\n",
       "    </tr>\n",
       "    <tr>\n",
       "      <th>4</th>\n",
       "      <td>2018-10-19</td>\n",
       "      <td>Detroit</td>\n",
       "      <td>Violent</td>\n",
       "      <td>Robbery</td>\n",
       "      <td>Robbery</td>\n",
       "    </tr>\n",
       "  </tbody>\n",
       "</table>\n",
       "</div>"
      ],
      "text/plain": [
       "     std_date     city category_1 category_2 category_3\n",
       "0  2018-01-09  Detroit    Violent    Robbery    Robbery\n",
       "1  2018-01-21  Detroit    Violent    Robbery    Robbery\n",
       "2  2018-01-23  Detroit    Violent    Robbery    Robbery\n",
       "3  2018-01-28  Detroit    Violent    Robbery    Robbery\n",
       "4  2018-10-19  Detroit    Violent    Robbery    Robbery"
      ]
     },
     "execution_count": 20,
     "metadata": {},
     "output_type": "execute_result"
    }
   ],
   "source": [
    "std = pd.read_csv('raw/raw_incidents_' + file_name + '.csv', index_col=None, dtype=str)\n",
    "std = standardize_datetime_one_arg(std, date_col1, date_format1)\n",
    "std = standardize_with_mapping(std, city_name, file_name, mapping_columns)\n",
    "std.head()"
   ]
  },
  {
   "cell_type": "markdown",
   "metadata": {},
   "source": [
    "# Fort Worth"
   ]
  },
  {
   "cell_type": "code",
   "execution_count": 21,
   "metadata": {},
   "outputs": [],
   "source": [
    "city_name = 'Fort Worth'\n",
    "file_name = 'fort_worth'\n",
    "mapping_columns = ['offense']\n",
    "\n",
    "date_col1 = 'from_date'\n",
    "date_format1 = '%Y-%m-%dT%H:%M:%S.%f'\n",
    "# date_col2 = \n",
    "# date_format2 = "
   ]
  },
  {
   "cell_type": "code",
   "execution_count": 22,
   "metadata": {},
   "outputs": [
    {
     "name": "stdout",
     "output_type": "stream",
     "text": [
      "Dropout: (17916, 23)\n",
      "Length:  63955\n"
     ]
    },
    {
     "data": {
      "text/html": [
       "<div>\n",
       "<style scoped>\n",
       "    .dataframe tbody tr th:only-of-type {\n",
       "        vertical-align: middle;\n",
       "    }\n",
       "\n",
       "    .dataframe tbody tr th {\n",
       "        vertical-align: top;\n",
       "    }\n",
       "\n",
       "    .dataframe thead th {\n",
       "        text-align: right;\n",
       "    }\n",
       "</style>\n",
       "<table border=\"1\" class=\"dataframe\">\n",
       "  <thead>\n",
       "    <tr style=\"text-align: right;\">\n",
       "      <th></th>\n",
       "      <th>std_date</th>\n",
       "      <th>city</th>\n",
       "      <th>category_1</th>\n",
       "      <th>category_2</th>\n",
       "      <th>category_3</th>\n",
       "    </tr>\n",
       "  </thead>\n",
       "  <tbody>\n",
       "    <tr>\n",
       "      <th>0</th>\n",
       "      <td>2019-07-27</td>\n",
       "      <td>Fort Worth</td>\n",
       "      <td>Violent</td>\n",
       "      <td>Assault</td>\n",
       "      <td>Simple Assault</td>\n",
       "    </tr>\n",
       "    <tr>\n",
       "      <th>1</th>\n",
       "      <td>2019-12-11</td>\n",
       "      <td>Fort Worth</td>\n",
       "      <td>Violent</td>\n",
       "      <td>Assault</td>\n",
       "      <td>Simple Assault</td>\n",
       "    </tr>\n",
       "    <tr>\n",
       "      <th>2</th>\n",
       "      <td>2019-06-11</td>\n",
       "      <td>Fort Worth</td>\n",
       "      <td>Violent</td>\n",
       "      <td>Assault</td>\n",
       "      <td>Simple Assault</td>\n",
       "    </tr>\n",
       "    <tr>\n",
       "      <th>3</th>\n",
       "      <td>2019-07-08</td>\n",
       "      <td>Fort Worth</td>\n",
       "      <td>Violent</td>\n",
       "      <td>Assault</td>\n",
       "      <td>Simple Assault</td>\n",
       "    </tr>\n",
       "    <tr>\n",
       "      <th>4</th>\n",
       "      <td>2019-06-03</td>\n",
       "      <td>Fort Worth</td>\n",
       "      <td>Violent</td>\n",
       "      <td>Assault</td>\n",
       "      <td>Simple Assault</td>\n",
       "    </tr>\n",
       "  </tbody>\n",
       "</table>\n",
       "</div>"
      ],
      "text/plain": [
       "     std_date        city category_1 category_2      category_3\n",
       "0  2019-07-27  Fort Worth    Violent    Assault  Simple Assault\n",
       "1  2019-12-11  Fort Worth    Violent    Assault  Simple Assault\n",
       "2  2019-06-11  Fort Worth    Violent    Assault  Simple Assault\n",
       "3  2019-07-08  Fort Worth    Violent    Assault  Simple Assault\n",
       "4  2019-06-03  Fort Worth    Violent    Assault  Simple Assault"
      ]
     },
     "execution_count": 22,
     "metadata": {},
     "output_type": "execute_result"
    }
   ],
   "source": [
    "std = pd.read_csv('raw/raw_incidents_' + file_name + '.csv', index_col=None, dtype=str)\n",
    "std = standardize_datetime_one_arg(std, date_col1, date_format1)\n",
    "std = standardize_with_mapping(std, city_name, file_name, mapping_columns)\n",
    "std.head()"
   ]
  },
  {
   "cell_type": "markdown",
   "metadata": {},
   "source": [
    "# Los Angeles"
   ]
  },
  {
   "cell_type": "code",
   "execution_count": 23,
   "metadata": {},
   "outputs": [],
   "source": [
    "city_name = 'Los Angeles'\n",
    "file_name = 'los_angeles'\n",
    "mapping_columns = ['crm_cd']\n",
    "\n",
    "date_col1 = 'date_occ'\n",
    "date_format1 = '%Y-%m-%dT%H:%M:%S.%f'\n",
    "# date_col2 = \n",
    "# date_format2 = "
   ]
  },
  {
   "cell_type": "code",
   "execution_count": 24,
   "metadata": {},
   "outputs": [
    {
     "name": "stdout",
     "output_type": "stream",
     "text": [
      "Dropout: (34267, 34)\n",
      "Length:  454458\n"
     ]
    },
    {
     "data": {
      "text/html": [
       "<div>\n",
       "<style scoped>\n",
       "    .dataframe tbody tr th:only-of-type {\n",
       "        vertical-align: middle;\n",
       "    }\n",
       "\n",
       "    .dataframe tbody tr th {\n",
       "        vertical-align: top;\n",
       "    }\n",
       "\n",
       "    .dataframe thead th {\n",
       "        text-align: right;\n",
       "    }\n",
       "</style>\n",
       "<table border=\"1\" class=\"dataframe\">\n",
       "  <thead>\n",
       "    <tr style=\"text-align: right;\">\n",
       "      <th></th>\n",
       "      <th>std_date</th>\n",
       "      <th>city</th>\n",
       "      <th>category_1</th>\n",
       "      <th>category_2</th>\n",
       "      <th>category_3</th>\n",
       "    </tr>\n",
       "  </thead>\n",
       "  <tbody>\n",
       "    <tr>\n",
       "      <th>0</th>\n",
       "      <td>2020-01-08</td>\n",
       "      <td>Los Angeles</td>\n",
       "      <td>Violent</td>\n",
       "      <td>Assault</td>\n",
       "      <td>Simple Assault</td>\n",
       "    </tr>\n",
       "    <tr>\n",
       "      <th>1</th>\n",
       "      <td>2020-01-01</td>\n",
       "      <td>Los Angeles</td>\n",
       "      <td>Violent</td>\n",
       "      <td>Assault</td>\n",
       "      <td>Simple Assault</td>\n",
       "    </tr>\n",
       "    <tr>\n",
       "      <th>2</th>\n",
       "      <td>2020-01-01</td>\n",
       "      <td>Los Angeles</td>\n",
       "      <td>Violent</td>\n",
       "      <td>Assault</td>\n",
       "      <td>Simple Assault</td>\n",
       "    </tr>\n",
       "    <tr>\n",
       "      <th>3</th>\n",
       "      <td>2020-01-01</td>\n",
       "      <td>Los Angeles</td>\n",
       "      <td>Violent</td>\n",
       "      <td>Assault</td>\n",
       "      <td>Simple Assault</td>\n",
       "    </tr>\n",
       "    <tr>\n",
       "      <th>4</th>\n",
       "      <td>2020-01-01</td>\n",
       "      <td>Los Angeles</td>\n",
       "      <td>Violent</td>\n",
       "      <td>Assault</td>\n",
       "      <td>Simple Assault</td>\n",
       "    </tr>\n",
       "  </tbody>\n",
       "</table>\n",
       "</div>"
      ],
      "text/plain": [
       "     std_date         city category_1 category_2      category_3\n",
       "0  2020-01-08  Los Angeles    Violent    Assault  Simple Assault\n",
       "1  2020-01-01  Los Angeles    Violent    Assault  Simple Assault\n",
       "2  2020-01-01  Los Angeles    Violent    Assault  Simple Assault\n",
       "3  2020-01-01  Los Angeles    Violent    Assault  Simple Assault\n",
       "4  2020-01-01  Los Angeles    Violent    Assault  Simple Assault"
      ]
     },
     "execution_count": 24,
     "metadata": {},
     "output_type": "execute_result"
    }
   ],
   "source": [
    "std = pd.read_csv('raw/raw_incidents_' + file_name + '.csv', index_col=None, dtype=str)\n",
    "std = standardize_datetime_one_arg(std, date_col1, date_format1)\n",
    "std = standardize_with_mapping(std, city_name, file_name, mapping_columns)\n",
    "std.head()"
   ]
  },
  {
   "cell_type": "markdown",
   "metadata": {},
   "source": [
    "# Milwaukee"
   ]
  },
  {
   "cell_type": "code",
   "execution_count": 25,
   "metadata": {},
   "outputs": [
    {
     "name": "stdout",
     "output_type": "stream",
     "text": [
      "Length:  76682\n"
     ]
    },
    {
     "data": {
      "text/html": [
       "<div>\n",
       "<style scoped>\n",
       "    .dataframe tbody tr th:only-of-type {\n",
       "        vertical-align: middle;\n",
       "    }\n",
       "\n",
       "    .dataframe tbody tr th {\n",
       "        vertical-align: top;\n",
       "    }\n",
       "\n",
       "    .dataframe thead th {\n",
       "        text-align: right;\n",
       "    }\n",
       "</style>\n",
       "<table border=\"1\" class=\"dataframe\">\n",
       "  <thead>\n",
       "    <tr style=\"text-align: right;\">\n",
       "      <th></th>\n",
       "      <th>std_date</th>\n",
       "      <th>city</th>\n",
       "      <th>category_1</th>\n",
       "      <th>category_2</th>\n",
       "      <th>category_3</th>\n",
       "    </tr>\n",
       "  </thead>\n",
       "  <tbody>\n",
       "    <tr>\n",
       "      <th>0</th>\n",
       "      <td>2018-01-02</td>\n",
       "      <td>Milwaukee</td>\n",
       "      <td>Violent</td>\n",
       "      <td>Homicide</td>\n",
       "      <td>Murder</td>\n",
       "    </tr>\n",
       "    <tr>\n",
       "      <th>1</th>\n",
       "      <td>2018-01-25</td>\n",
       "      <td>Milwaukee</td>\n",
       "      <td>Violent</td>\n",
       "      <td>Homicide</td>\n",
       "      <td>Murder</td>\n",
       "    </tr>\n",
       "    <tr>\n",
       "      <th>2</th>\n",
       "      <td>2018-01-29</td>\n",
       "      <td>Milwaukee</td>\n",
       "      <td>Violent</td>\n",
       "      <td>Homicide</td>\n",
       "      <td>Murder</td>\n",
       "    </tr>\n",
       "    <tr>\n",
       "      <th>3</th>\n",
       "      <td>2018-02-14</td>\n",
       "      <td>Milwaukee</td>\n",
       "      <td>Violent</td>\n",
       "      <td>Homicide</td>\n",
       "      <td>Murder</td>\n",
       "    </tr>\n",
       "    <tr>\n",
       "      <th>4</th>\n",
       "      <td>2018-05-12</td>\n",
       "      <td>Milwaukee</td>\n",
       "      <td>Violent</td>\n",
       "      <td>Homicide</td>\n",
       "      <td>Murder</td>\n",
       "    </tr>\n",
       "  </tbody>\n",
       "</table>\n",
       "</div>"
      ],
      "text/plain": [
       "     std_date       city category_1 category_2 category_3\n",
       "0  2018-01-02  Milwaukee    Violent   Homicide     Murder\n",
       "1  2018-01-25  Milwaukee    Violent   Homicide     Murder\n",
       "2  2018-01-29  Milwaukee    Violent   Homicide     Murder\n",
       "3  2018-02-14  Milwaukee    Violent   Homicide     Murder\n",
       "4  2018-05-12  Milwaukee    Violent   Homicide     Murder"
      ]
     },
     "execution_count": 25,
     "metadata": {},
     "output_type": "execute_result"
    }
   ],
   "source": [
    "std = pd.read_csv('raw/raw_incidents_milwaukee.csv', index_col=None, dtype=str)\n",
    "mapping = pd.read_csv('mappings/mapping_milwaukee.csv', index_col=None, dtype=str)\n",
    "\n",
    "for col_name in mapping['ColName'].values:\n",
    "    std[col_name] = std[col_name].astype(str)\n",
    "\n",
    "def standardize_datetime_milwaukee(d): \n",
    "    return datetime.strptime(d, '%Y-%m-%d %H:%M:%S').date()\n",
    "std['std_date'] = std['ReportedDateTime'].apply(standardize_datetime_milwaukee)\n",
    "std = std[(std['std_date'] >= start_date) & (std['std_date'] <= end_date)]\n",
    "\n",
    "all_crime_types = pd.DataFrame()\n",
    "for col_name in mapping['ColName'].values:\n",
    "    one_crime_type = std.loc[std[col_name] == '1', ['std_date',col_name]]\n",
    "    one_crime_type['join_key'] = col_name\n",
    "    one_crime_type = one_crime_type.drop(col_name, axis=1)\n",
    "    all_crime_types = pd.concat([all_crime_types, one_crime_type])    \n",
    "mapping['join_key'] = mapping['ColName'].fillna('').astype(str)\n",
    "std = pd.merge(all_crime_types, mapping, how='inner', on='join_key')\n",
    "std['city'] = 'Milwaukee'\n",
    "std = std[['std_date', 'city', 'category_1', 'category_2', 'category_3']]\n",
    "std.to_csv('standardized/standardized_incidents_milwaukee.csv', index=False)\n",
    "\n",
    "print('Length: ', len(std))\n",
    "std.head()"
   ]
  },
  {
   "cell_type": "markdown",
   "metadata": {},
   "source": [
    "# New York City"
   ]
  },
  {
   "cell_type": "code",
   "execution_count": 26,
   "metadata": {},
   "outputs": [],
   "source": [
    "city_name = 'New York City'\n",
    "file_name = 'new_york_city'\n",
    "mapping_columns = ['ofns_desc', 'law_cat_cd', 'pd_desc']\n",
    "\n",
    "date_col1 = 'cmplnt_fr_dt'\n",
    "date_format1 = '%Y-%m-%dT%H:%M:%S.%f'\n",
    "# date_col2 = \n",
    "# date_format2 = "
   ]
  },
  {
   "cell_type": "code",
   "execution_count": 27,
   "metadata": {},
   "outputs": [
    {
     "name": "stdout",
     "output_type": "stream",
     "text": [
      "Dropout: (374396, 44)\n",
      "Length:  652750\n"
     ]
    },
    {
     "data": {
      "text/html": [
       "<div>\n",
       "<style scoped>\n",
       "    .dataframe tbody tr th:only-of-type {\n",
       "        vertical-align: middle;\n",
       "    }\n",
       "\n",
       "    .dataframe tbody tr th {\n",
       "        vertical-align: top;\n",
       "    }\n",
       "\n",
       "    .dataframe thead th {\n",
       "        text-align: right;\n",
       "    }\n",
       "</style>\n",
       "<table border=\"1\" class=\"dataframe\">\n",
       "  <thead>\n",
       "    <tr style=\"text-align: right;\">\n",
       "      <th></th>\n",
       "      <th>std_date</th>\n",
       "      <th>city</th>\n",
       "      <th>category_1</th>\n",
       "      <th>category_2</th>\n",
       "      <th>category_3</th>\n",
       "    </tr>\n",
       "  </thead>\n",
       "  <tbody>\n",
       "    <tr>\n",
       "      <th>0</th>\n",
       "      <td>2018-02-20</td>\n",
       "      <td>New York City</td>\n",
       "      <td>Property</td>\n",
       "      <td>White Collar</td>\n",
       "      <td>Fraud</td>\n",
       "    </tr>\n",
       "    <tr>\n",
       "      <th>1</th>\n",
       "      <td>2020-03-01</td>\n",
       "      <td>New York City</td>\n",
       "      <td>Property</td>\n",
       "      <td>White Collar</td>\n",
       "      <td>Fraud</td>\n",
       "    </tr>\n",
       "    <tr>\n",
       "      <th>2</th>\n",
       "      <td>2020-02-24</td>\n",
       "      <td>New York City</td>\n",
       "      <td>Property</td>\n",
       "      <td>White Collar</td>\n",
       "      <td>Fraud</td>\n",
       "    </tr>\n",
       "    <tr>\n",
       "      <th>3</th>\n",
       "      <td>2019-10-15</td>\n",
       "      <td>New York City</td>\n",
       "      <td>Property</td>\n",
       "      <td>White Collar</td>\n",
       "      <td>Fraud</td>\n",
       "    </tr>\n",
       "    <tr>\n",
       "      <th>4</th>\n",
       "      <td>2019-03-01</td>\n",
       "      <td>New York City</td>\n",
       "      <td>Property</td>\n",
       "      <td>White Collar</td>\n",
       "      <td>Fraud</td>\n",
       "    </tr>\n",
       "  </tbody>\n",
       "</table>\n",
       "</div>"
      ],
      "text/plain": [
       "     std_date           city category_1    category_2 category_3\n",
       "0  2018-02-20  New York City   Property  White Collar      Fraud\n",
       "1  2020-03-01  New York City   Property  White Collar      Fraud\n",
       "2  2020-02-24  New York City   Property  White Collar      Fraud\n",
       "3  2019-10-15  New York City   Property  White Collar      Fraud\n",
       "4  2019-03-01  New York City   Property  White Collar      Fraud"
      ]
     },
     "execution_count": 27,
     "metadata": {},
     "output_type": "execute_result"
    }
   ],
   "source": [
    "std = pd.read_csv('raw/raw_incidents_' + file_name + '.csv', index_col=None, dtype=str)\n",
    "std = standardize_datetime_one_arg(std, date_col1, date_format1)\n",
    "std = standardize_with_mapping(std, city_name, file_name, mapping_columns)\n",
    "std.head()"
   ]
  },
  {
   "cell_type": "markdown",
   "metadata": {},
   "source": [
    "# Philadelphia"
   ]
  },
  {
   "cell_type": "code",
   "execution_count": 28,
   "metadata": {},
   "outputs": [],
   "source": [
    "city_name = 'Philadelphia'\n",
    "file_name = 'philadelphia'\n",
    "mapping_columns = ['ucr_general', 'text_general_code']\n",
    "\n",
    "date_col1 = 'dispatch_date'\n",
    "date_format1 = '%Y-%m-%d'\n",
    "# date_col2 = \n",
    "# date_format2 = "
   ]
  },
  {
   "cell_type": "code",
   "execution_count": 29,
   "metadata": {},
   "outputs": [
    {
     "name": "stdout",
     "output_type": "stream",
     "text": [
      "Dropout: (79356, 23)\n",
      "Length:  266533\n"
     ]
    },
    {
     "data": {
      "text/html": [
       "<div>\n",
       "<style scoped>\n",
       "    .dataframe tbody tr th:only-of-type {\n",
       "        vertical-align: middle;\n",
       "    }\n",
       "\n",
       "    .dataframe tbody tr th {\n",
       "        vertical-align: top;\n",
       "    }\n",
       "\n",
       "    .dataframe thead th {\n",
       "        text-align: right;\n",
       "    }\n",
       "</style>\n",
       "<table border=\"1\" class=\"dataframe\">\n",
       "  <thead>\n",
       "    <tr style=\"text-align: right;\">\n",
       "      <th></th>\n",
       "      <th>std_date</th>\n",
       "      <th>city</th>\n",
       "      <th>category_1</th>\n",
       "      <th>category_2</th>\n",
       "      <th>category_3</th>\n",
       "    </tr>\n",
       "  </thead>\n",
       "  <tbody>\n",
       "    <tr>\n",
       "      <th>0</th>\n",
       "      <td>2018-01-06</td>\n",
       "      <td>Philadelphia</td>\n",
       "      <td>Property</td>\n",
       "      <td>Theft</td>\n",
       "      <td>Unclassified</td>\n",
       "    </tr>\n",
       "    <tr>\n",
       "      <th>1</th>\n",
       "      <td>2018-03-29</td>\n",
       "      <td>Philadelphia</td>\n",
       "      <td>Property</td>\n",
       "      <td>Theft</td>\n",
       "      <td>Unclassified</td>\n",
       "    </tr>\n",
       "    <tr>\n",
       "      <th>2</th>\n",
       "      <td>2018-05-18</td>\n",
       "      <td>Philadelphia</td>\n",
       "      <td>Property</td>\n",
       "      <td>Theft</td>\n",
       "      <td>Unclassified</td>\n",
       "    </tr>\n",
       "    <tr>\n",
       "      <th>3</th>\n",
       "      <td>2018-05-24</td>\n",
       "      <td>Philadelphia</td>\n",
       "      <td>Property</td>\n",
       "      <td>Theft</td>\n",
       "      <td>Unclassified</td>\n",
       "    </tr>\n",
       "    <tr>\n",
       "      <th>4</th>\n",
       "      <td>2019-11-12</td>\n",
       "      <td>Philadelphia</td>\n",
       "      <td>Property</td>\n",
       "      <td>Theft</td>\n",
       "      <td>Unclassified</td>\n",
       "    </tr>\n",
       "  </tbody>\n",
       "</table>\n",
       "</div>"
      ],
      "text/plain": [
       "     std_date          city category_1 category_2    category_3\n",
       "0  2018-01-06  Philadelphia   Property      Theft  Unclassified\n",
       "1  2018-03-29  Philadelphia   Property      Theft  Unclassified\n",
       "2  2018-05-18  Philadelphia   Property      Theft  Unclassified\n",
       "3  2018-05-24  Philadelphia   Property      Theft  Unclassified\n",
       "4  2019-11-12  Philadelphia   Property      Theft  Unclassified"
      ]
     },
     "execution_count": 29,
     "metadata": {},
     "output_type": "execute_result"
    }
   ],
   "source": [
    "std = pd.read_csv('raw/raw_incidents_' + file_name + '.csv', index_col=None, dtype=str)\n",
    "std = standardize_datetime_one_arg(std, date_col1, date_format1)\n",
    "std = standardize_with_mapping(std, city_name, file_name, mapping_columns)\n",
    "std.head()"
   ]
  },
  {
   "cell_type": "markdown",
   "metadata": {},
   "source": [
    "# Phoenix"
   ]
  },
  {
   "cell_type": "code",
   "execution_count": 30,
   "metadata": {},
   "outputs": [],
   "source": [
    "city_name = 'Phoenix'\n",
    "file_name = 'phoenix'\n",
    "mapping_columns = ['UCR CRIME CATEGORY']\n",
    "\n",
    "date_col1 = 'OCCURRED ON'\n",
    "date_format1 = '%m/%d/%Y  %H:%M'\n",
    "date_col2 = 'OCCURRED TO'\n",
    "date_format2 = '%m/%d/%Y  %H:%M'"
   ]
  },
  {
   "cell_type": "code",
   "execution_count": 31,
   "metadata": {},
   "outputs": [
    {
     "name": "stdout",
     "output_type": "stream",
     "text": [
      "Dropout: (0, 13)\n",
      "Length:  148006\n"
     ]
    },
    {
     "data": {
      "text/html": [
       "<div>\n",
       "<style scoped>\n",
       "    .dataframe tbody tr th:only-of-type {\n",
       "        vertical-align: middle;\n",
       "    }\n",
       "\n",
       "    .dataframe tbody tr th {\n",
       "        vertical-align: top;\n",
       "    }\n",
       "\n",
       "    .dataframe thead th {\n",
       "        text-align: right;\n",
       "    }\n",
       "</style>\n",
       "<table border=\"1\" class=\"dataframe\">\n",
       "  <thead>\n",
       "    <tr style=\"text-align: right;\">\n",
       "      <th></th>\n",
       "      <th>std_date</th>\n",
       "      <th>city</th>\n",
       "      <th>category_1</th>\n",
       "      <th>category_2</th>\n",
       "      <th>category_3</th>\n",
       "    </tr>\n",
       "  </thead>\n",
       "  <tbody>\n",
       "    <tr>\n",
       "      <th>0</th>\n",
       "      <td>2018-01-01</td>\n",
       "      <td>Phoenix</td>\n",
       "      <td>Property</td>\n",
       "      <td>Theft</td>\n",
       "      <td>Unclassified</td>\n",
       "    </tr>\n",
       "    <tr>\n",
       "      <th>1</th>\n",
       "      <td>2018-01-01</td>\n",
       "      <td>Phoenix</td>\n",
       "      <td>Property</td>\n",
       "      <td>Theft</td>\n",
       "      <td>Unclassified</td>\n",
       "    </tr>\n",
       "    <tr>\n",
       "      <th>2</th>\n",
       "      <td>2018-01-01</td>\n",
       "      <td>Phoenix</td>\n",
       "      <td>Property</td>\n",
       "      <td>Theft</td>\n",
       "      <td>Unclassified</td>\n",
       "    </tr>\n",
       "    <tr>\n",
       "      <th>3</th>\n",
       "      <td>2018-01-01</td>\n",
       "      <td>Phoenix</td>\n",
       "      <td>Property</td>\n",
       "      <td>Theft</td>\n",
       "      <td>Unclassified</td>\n",
       "    </tr>\n",
       "    <tr>\n",
       "      <th>4</th>\n",
       "      <td>2018-01-01</td>\n",
       "      <td>Phoenix</td>\n",
       "      <td>Property</td>\n",
       "      <td>Theft</td>\n",
       "      <td>Unclassified</td>\n",
       "    </tr>\n",
       "  </tbody>\n",
       "</table>\n",
       "</div>"
      ],
      "text/plain": [
       "     std_date     city category_1 category_2    category_3\n",
       "0  2018-01-01  Phoenix   Property      Theft  Unclassified\n",
       "1  2018-01-01  Phoenix   Property      Theft  Unclassified\n",
       "2  2018-01-01  Phoenix   Property      Theft  Unclassified\n",
       "3  2018-01-01  Phoenix   Property      Theft  Unclassified\n",
       "4  2018-01-01  Phoenix   Property      Theft  Unclassified"
      ]
     },
     "execution_count": 31,
     "metadata": {},
     "output_type": "execute_result"
    }
   ],
   "source": [
    "std = pd.read_csv('raw/raw_incidents_' + file_name + '.csv', index_col=None, dtype=str)\n",
    "std = standardize_datetime_two_args(std, date_col1, date_format1, date_col2, date_format2)\n",
    "std = standardize_with_mapping(std, city_name, file_name, mapping_columns)\n",
    "std.head()"
   ]
  },
  {
   "cell_type": "markdown",
   "metadata": {},
   "source": [
    "# San Francisco"
   ]
  },
  {
   "cell_type": "code",
   "execution_count": 32,
   "metadata": {},
   "outputs": [],
   "source": [
    "city_name = 'San Francisco'\n",
    "file_name = 'san_francisco'\n",
    "mapping_columns = ['incident_category']\n",
    "\n",
    "date_col1 = 'incident_datetime'\n",
    "date_format1 = '%Y-%m-%dT%H:%M:%S.%f'\n",
    "# date_col2 = \n",
    "# date_format2 = "
   ]
  },
  {
   "cell_type": "code",
   "execution_count": 33,
   "metadata": {},
   "outputs": [
    {
     "name": "stdout",
     "output_type": "stream",
     "text": [
      "Dropout: (118130, 42)\n",
      "Length:  214004\n"
     ]
    },
    {
     "data": {
      "text/html": [
       "<div>\n",
       "<style scoped>\n",
       "    .dataframe tbody tr th:only-of-type {\n",
       "        vertical-align: middle;\n",
       "    }\n",
       "\n",
       "    .dataframe tbody tr th {\n",
       "        vertical-align: top;\n",
       "    }\n",
       "\n",
       "    .dataframe thead th {\n",
       "        text-align: right;\n",
       "    }\n",
       "</style>\n",
       "<table border=\"1\" class=\"dataframe\">\n",
       "  <thead>\n",
       "    <tr style=\"text-align: right;\">\n",
       "      <th></th>\n",
       "      <th>std_date</th>\n",
       "      <th>city</th>\n",
       "      <th>category_1</th>\n",
       "      <th>category_2</th>\n",
       "      <th>category_3</th>\n",
       "    </tr>\n",
       "  </thead>\n",
       "  <tbody>\n",
       "    <tr>\n",
       "      <th>0</th>\n",
       "      <td>2018-01-01</td>\n",
       "      <td>San Francisco</td>\n",
       "      <td>Property</td>\n",
       "      <td>Theft</td>\n",
       "      <td>Grand Larceny Auto</td>\n",
       "    </tr>\n",
       "    <tr>\n",
       "      <th>1</th>\n",
       "      <td>2018-01-01</td>\n",
       "      <td>San Francisco</td>\n",
       "      <td>Property</td>\n",
       "      <td>Theft</td>\n",
       "      <td>Grand Larceny Auto</td>\n",
       "    </tr>\n",
       "    <tr>\n",
       "      <th>2</th>\n",
       "      <td>2018-01-01</td>\n",
       "      <td>San Francisco</td>\n",
       "      <td>Property</td>\n",
       "      <td>Theft</td>\n",
       "      <td>Grand Larceny Auto</td>\n",
       "    </tr>\n",
       "    <tr>\n",
       "      <th>3</th>\n",
       "      <td>2018-01-01</td>\n",
       "      <td>San Francisco</td>\n",
       "      <td>Property</td>\n",
       "      <td>Theft</td>\n",
       "      <td>Grand Larceny Auto</td>\n",
       "    </tr>\n",
       "    <tr>\n",
       "      <th>4</th>\n",
       "      <td>2018-01-02</td>\n",
       "      <td>San Francisco</td>\n",
       "      <td>Property</td>\n",
       "      <td>Theft</td>\n",
       "      <td>Grand Larceny Auto</td>\n",
       "    </tr>\n",
       "  </tbody>\n",
       "</table>\n",
       "</div>"
      ],
      "text/plain": [
       "     std_date           city category_1 category_2          category_3\n",
       "0  2018-01-01  San Francisco   Property      Theft  Grand Larceny Auto\n",
       "1  2018-01-01  San Francisco   Property      Theft  Grand Larceny Auto\n",
       "2  2018-01-01  San Francisco   Property      Theft  Grand Larceny Auto\n",
       "3  2018-01-01  San Francisco   Property      Theft  Grand Larceny Auto\n",
       "4  2018-01-02  San Francisco   Property      Theft  Grand Larceny Auto"
      ]
     },
     "execution_count": 33,
     "metadata": {},
     "output_type": "execute_result"
    }
   ],
   "source": [
    "std = pd.read_csv('raw/raw_incidents_' + file_name + '.csv', index_col=None, dtype=str)\n",
    "std = standardize_datetime_one_arg(std, date_col1, date_format1)\n",
    "std = standardize_with_mapping(std, city_name, file_name, mapping_columns)\n",
    "std.head()"
   ]
  },
  {
   "cell_type": "markdown",
   "metadata": {},
   "source": [
    "# Seattle"
   ]
  },
  {
   "cell_type": "code",
   "execution_count": 34,
   "metadata": {},
   "outputs": [],
   "source": [
    "city_name = 'Seattle'\n",
    "file_name = 'seattle'\n",
    "mapping_columns = ['offense_parent_group', 'offense']\n",
    "\n",
    "date_col1 = 'offense_start_datetime'\n",
    "date_format1 = '%Y-%m-%d %H:%M:%S'\n",
    "date_col2 = 'report_datetime'\n",
    "date_format2 = '%Y-%m-%d %H:%M:%S'"
   ]
  },
  {
   "cell_type": "code",
   "execution_count": 35,
   "metadata": {},
   "outputs": [
    {
     "name": "stdout",
     "output_type": "stream",
     "text": [
      "Dropout: (8450, 24)\n",
      "Length:  152195\n"
     ]
    },
    {
     "data": {
      "text/html": [
       "<div>\n",
       "<style scoped>\n",
       "    .dataframe tbody tr th:only-of-type {\n",
       "        vertical-align: middle;\n",
       "    }\n",
       "\n",
       "    .dataframe tbody tr th {\n",
       "        vertical-align: top;\n",
       "    }\n",
       "\n",
       "    .dataframe thead th {\n",
       "        text-align: right;\n",
       "    }\n",
       "</style>\n",
       "<table border=\"1\" class=\"dataframe\">\n",
       "  <thead>\n",
       "    <tr style=\"text-align: right;\">\n",
       "      <th></th>\n",
       "      <th>std_date</th>\n",
       "      <th>city</th>\n",
       "      <th>category_1</th>\n",
       "      <th>category_2</th>\n",
       "      <th>category_3</th>\n",
       "    </tr>\n",
       "  </thead>\n",
       "  <tbody>\n",
       "    <tr>\n",
       "      <th>0</th>\n",
       "      <td>2020-02-05</td>\n",
       "      <td>Seattle</td>\n",
       "      <td>Drug</td>\n",
       "      <td>Drug</td>\n",
       "      <td>Drug</td>\n",
       "    </tr>\n",
       "    <tr>\n",
       "      <th>1</th>\n",
       "      <td>2020-02-04</td>\n",
       "      <td>Seattle</td>\n",
       "      <td>Drug</td>\n",
       "      <td>Drug</td>\n",
       "      <td>Drug</td>\n",
       "    </tr>\n",
       "    <tr>\n",
       "      <th>2</th>\n",
       "      <td>2020-02-04</td>\n",
       "      <td>Seattle</td>\n",
       "      <td>Drug</td>\n",
       "      <td>Drug</td>\n",
       "      <td>Drug</td>\n",
       "    </tr>\n",
       "    <tr>\n",
       "      <th>3</th>\n",
       "      <td>2020-02-03</td>\n",
       "      <td>Seattle</td>\n",
       "      <td>Drug</td>\n",
       "      <td>Drug</td>\n",
       "      <td>Drug</td>\n",
       "    </tr>\n",
       "    <tr>\n",
       "      <th>4</th>\n",
       "      <td>2020-02-03</td>\n",
       "      <td>Seattle</td>\n",
       "      <td>Drug</td>\n",
       "      <td>Drug</td>\n",
       "      <td>Drug</td>\n",
       "    </tr>\n",
       "  </tbody>\n",
       "</table>\n",
       "</div>"
      ],
      "text/plain": [
       "     std_date     city category_1 category_2 category_3\n",
       "0  2020-02-05  Seattle       Drug       Drug       Drug\n",
       "1  2020-02-04  Seattle       Drug       Drug       Drug\n",
       "2  2020-02-04  Seattle       Drug       Drug       Drug\n",
       "3  2020-02-03  Seattle       Drug       Drug       Drug\n",
       "4  2020-02-03  Seattle       Drug       Drug       Drug"
      ]
     },
     "execution_count": 35,
     "metadata": {},
     "output_type": "execute_result"
    }
   ],
   "source": [
    "std = pd.read_csv('raw/raw_incidents_' + file_name + '.csv', index_col=None, dtype=str)\n",
    "std = standardize_datetime_two_args(std, date_col1, date_format1, date_col2, date_format2)\n",
    "std = standardize_with_mapping(std, city_name, file_name, mapping_columns)\n",
    "std.head()"
   ]
  },
  {
   "cell_type": "markdown",
   "metadata": {},
   "source": [
    "# Washington DC"
   ]
  },
  {
   "cell_type": "code",
   "execution_count": 36,
   "metadata": {},
   "outputs": [],
   "source": [
    "city_name = 'Washington DC'\n",
    "file_name = 'washington_dc'\n",
    "mapping_columns = ['OFFENSE']\n",
    "\n",
    "date_col1 = 'START_DATE'\n",
    "date_format1 = '%Y/%m/%d %H:%M:%S+00'\n",
    "# date_col2 = \n",
    "# date_format2 = "
   ]
  },
  {
   "cell_type": "code",
   "execution_count": 37,
   "metadata": {},
   "outputs": [
    {
     "name": "stdout",
     "output_type": "stream",
     "text": [
      "Dropout: (0, 31)\n",
      "Length:  74270\n"
     ]
    },
    {
     "data": {
      "text/html": [
       "<div>\n",
       "<style scoped>\n",
       "    .dataframe tbody tr th:only-of-type {\n",
       "        vertical-align: middle;\n",
       "    }\n",
       "\n",
       "    .dataframe tbody tr th {\n",
       "        vertical-align: top;\n",
       "    }\n",
       "\n",
       "    .dataframe thead th {\n",
       "        text-align: right;\n",
       "    }\n",
       "</style>\n",
       "<table border=\"1\" class=\"dataframe\">\n",
       "  <thead>\n",
       "    <tr style=\"text-align: right;\">\n",
       "      <th></th>\n",
       "      <th>std_date</th>\n",
       "      <th>city</th>\n",
       "      <th>category_1</th>\n",
       "      <th>category_2</th>\n",
       "      <th>category_3</th>\n",
       "    </tr>\n",
       "  </thead>\n",
       "  <tbody>\n",
       "    <tr>\n",
       "      <th>0</th>\n",
       "      <td>2018-04-01</td>\n",
       "      <td>Washington DC</td>\n",
       "      <td>Violent</td>\n",
       "      <td>Rape</td>\n",
       "      <td>Rape</td>\n",
       "    </tr>\n",
       "    <tr>\n",
       "      <th>1</th>\n",
       "      <td>2018-01-22</td>\n",
       "      <td>Washington DC</td>\n",
       "      <td>Violent</td>\n",
       "      <td>Rape</td>\n",
       "      <td>Rape</td>\n",
       "    </tr>\n",
       "    <tr>\n",
       "      <th>2</th>\n",
       "      <td>2018-01-01</td>\n",
       "      <td>Washington DC</td>\n",
       "      <td>Violent</td>\n",
       "      <td>Rape</td>\n",
       "      <td>Rape</td>\n",
       "    </tr>\n",
       "    <tr>\n",
       "      <th>3</th>\n",
       "      <td>2018-01-23</td>\n",
       "      <td>Washington DC</td>\n",
       "      <td>Violent</td>\n",
       "      <td>Rape</td>\n",
       "      <td>Rape</td>\n",
       "    </tr>\n",
       "    <tr>\n",
       "      <th>4</th>\n",
       "      <td>2018-01-02</td>\n",
       "      <td>Washington DC</td>\n",
       "      <td>Violent</td>\n",
       "      <td>Rape</td>\n",
       "      <td>Rape</td>\n",
       "    </tr>\n",
       "  </tbody>\n",
       "</table>\n",
       "</div>"
      ],
      "text/plain": [
       "     std_date           city category_1 category_2 category_3\n",
       "0  2018-04-01  Washington DC    Violent       Rape       Rape\n",
       "1  2018-01-22  Washington DC    Violent       Rape       Rape\n",
       "2  2018-01-01  Washington DC    Violent       Rape       Rape\n",
       "3  2018-01-23  Washington DC    Violent       Rape       Rape\n",
       "4  2018-01-02  Washington DC    Violent       Rape       Rape"
      ]
     },
     "execution_count": 37,
     "metadata": {},
     "output_type": "execute_result"
    }
   ],
   "source": [
    "std = pd.read_csv('raw/raw_incidents_' + file_name + '.csv', index_col=None, dtype=str)\n",
    "std = standardize_datetime_one_arg(std, date_col1, date_format1)\n",
    "std = standardize_with_mapping(std, city_name, file_name, mapping_columns)\n",
    "std.head()"
   ]
  },
  {
   "cell_type": "markdown",
   "metadata": {},
   "source": [
    "# Houston"
   ]
  },
  {
   "cell_type": "code",
   "execution_count": 38,
   "metadata": {},
   "outputs": [
    {
     "name": "stderr",
     "output_type": "stream",
     "text": [
      "<ipython-input-38-5a0806b6d563>:10: SettingWithCopyWarning: \n",
      "A value is trying to be set on a copy of a slice from a DataFrame.\n",
      "Try using .loc[row_indexer,col_indexer] = value instead\n",
      "\n",
      "See the caveats in the documentation: https://pandas.pydata.org/pandas-docs/stable/user_guide/indexing.html#returning-a-view-versus-a-copy\n",
      "  std['join_key'] = std['Offense Type'].fillna('').astype(str)\n"
     ]
    }
   ],
   "source": [
    "# Jan - May 2018\n",
    "df1 = pd.DataFrame()\n",
    "months = ['jan', 'feb', 'mar', 'apr', 'may']\n",
    "for m in months: \n",
    "    tmp = pd.read_excel('raw/raw_incidents_houston/2018/' + m + '18.xls')    \n",
    "    df1 = pd.concat([df1, tmp], sort=True)\n",
    "mapping = pd.read_csv('mappings/mapping_houston1.csv', index_col=None, dtype=str)\n",
    "std = standardize_datetime_one_arg(df1, 'Date', '%m/%d/%Y')\n",
    "\n",
    "std['join_key'] = std['Offense Type'].fillna('').astype(str)\n",
    "mapping['join_key'] = mapping['Offense Type'].fillna('').astype(str)\n",
    "std = pd.merge(std, mapping, how='inner', on='join_key')\n",
    "std['city'] = 'Houston'\n",
    "std = std[['std_date', 'city', 'category_1', 'category_2', 'category_3']]\n",
    "\n",
    "std2 = pd.DataFrame()\n",
    "std2 = pd.concat([std2, std], sort=True)"
   ]
  },
  {
   "cell_type": "code",
   "execution_count": 39,
   "metadata": {},
   "outputs": [],
   "source": [
    "# June - Dec 2018\n",
    "df2 = pd.DataFrame()\n",
    "months = ['june', 'july', 'aug', 'sep', 'oct', 'nov', 'dec']\n",
    "for m in months: \n",
    "    tmp = pd.read_excel('raw/raw_incidents_houston/2018/flattened_' + m + '18.xlsx')    \n",
    "    df2 = pd.concat([df2, tmp], sort=True)\n",
    "mapping = pd.read_csv('mappings/mapping_houston2.csv', index_col=None, dtype=str)\n",
    "std = standardize_datetime_one_arg(df2, 'Occurrence Date', '%Y-%m-%d')\n",
    "\n",
    "std['join_key'] = std['NIBRS Description'].fillna('').astype(str)\n",
    "mapping['join_key'] = mapping['NIBRS Description'].fillna('').astype(str)\n",
    "std = pd.merge(std, mapping, how='inner', on='join_key')\n",
    "std['city'] = 'Houston'\n",
    "std = std[['std_date', 'city', 'category_1', 'category_2', 'category_3']]\n",
    "\n",
    "std2 = pd.concat([std2, std], sort=True)"
   ]
  },
  {
   "cell_type": "code",
   "execution_count": 40,
   "metadata": {},
   "outputs": [
    {
     "name": "stderr",
     "output_type": "stream",
     "text": [
      "<ipython-input-40-e39764270058>:11: SettingWithCopyWarning: \n",
      "A value is trying to be set on a copy of a slice from a DataFrame.\n",
      "Try using .loc[row_indexer,col_indexer] = value instead\n",
      "\n",
      "See the caveats in the documentation: https://pandas.pydata.org/pandas-docs/stable/user_guide/indexing.html#returning-a-view-versus-a-copy\n",
      "  std['join_key'] = std['NIBRSDescription'].fillna('').astype(str)\n"
     ]
    },
    {
     "name": "stdout",
     "output_type": "stream",
     "text": [
      "Length: 404456\n"
     ]
    },
    {
     "data": {
      "text/html": [
       "<div>\n",
       "<style scoped>\n",
       "    .dataframe tbody tr th:only-of-type {\n",
       "        vertical-align: middle;\n",
       "    }\n",
       "\n",
       "    .dataframe tbody tr th {\n",
       "        vertical-align: top;\n",
       "    }\n",
       "\n",
       "    .dataframe thead th {\n",
       "        text-align: right;\n",
       "    }\n",
       "</style>\n",
       "<table border=\"1\" class=\"dataframe\">\n",
       "  <thead>\n",
       "    <tr style=\"text-align: right;\">\n",
       "      <th></th>\n",
       "      <th>category_1</th>\n",
       "      <th>category_2</th>\n",
       "      <th>category_3</th>\n",
       "      <th>city</th>\n",
       "      <th>std_date</th>\n",
       "    </tr>\n",
       "  </thead>\n",
       "  <tbody>\n",
       "    <tr>\n",
       "      <th>0</th>\n",
       "      <td>Violent</td>\n",
       "      <td>Robbery</td>\n",
       "      <td>Robbery</td>\n",
       "      <td>Houston</td>\n",
       "      <td>2018-01-01</td>\n",
       "    </tr>\n",
       "    <tr>\n",
       "      <th>1</th>\n",
       "      <td>Violent</td>\n",
       "      <td>Robbery</td>\n",
       "      <td>Robbery</td>\n",
       "      <td>Houston</td>\n",
       "      <td>2018-01-14</td>\n",
       "    </tr>\n",
       "    <tr>\n",
       "      <th>2</th>\n",
       "      <td>Violent</td>\n",
       "      <td>Robbery</td>\n",
       "      <td>Robbery</td>\n",
       "      <td>Houston</td>\n",
       "      <td>2018-01-01</td>\n",
       "    </tr>\n",
       "    <tr>\n",
       "      <th>3</th>\n",
       "      <td>Violent</td>\n",
       "      <td>Robbery</td>\n",
       "      <td>Robbery</td>\n",
       "      <td>Houston</td>\n",
       "      <td>2018-01-04</td>\n",
       "    </tr>\n",
       "    <tr>\n",
       "      <th>4</th>\n",
       "      <td>Violent</td>\n",
       "      <td>Robbery</td>\n",
       "      <td>Robbery</td>\n",
       "      <td>Houston</td>\n",
       "      <td>2018-01-13</td>\n",
       "    </tr>\n",
       "  </tbody>\n",
       "</table>\n",
       "</div>"
      ],
      "text/plain": [
       "  category_1 category_2 category_3     city    std_date\n",
       "0    Violent    Robbery    Robbery  Houston  2018-01-01\n",
       "1    Violent    Robbery    Robbery  Houston  2018-01-14\n",
       "2    Violent    Robbery    Robbery  Houston  2018-01-01\n",
       "3    Violent    Robbery    Robbery  Houston  2018-01-04\n",
       "4    Violent    Robbery    Robbery  Houston  2018-01-13"
      ]
     },
     "execution_count": 40,
     "metadata": {},
     "output_type": "execute_result"
    }
   ],
   "source": [
    "# 2019\n",
    "df3 = pd.read_excel('raw/raw_incidents_houston/2019/2019_NIBRSPublicView.Jan1-Dec31.xlsx', dtype=str)\n",
    "\n",
    "# 2020\n",
    "tmp = pd.read_excel('raw/raw_incidents_houston/2020/NIBRSPublicView.Jan1-Dec31-2020.xlsx', dtype=str)\n",
    "df3 = pd.concat([df3, tmp], sort=True)\n",
    "\n",
    "mapping = pd.read_csv('mappings/mapping_houston3.csv', index_col=None, dtype=str)\n",
    "std = standardize_datetime_one_arg(df3, 'Occurrence\\nDate', '%Y-%m-%d %H:%M:%S')\n",
    "\n",
    "std['join_key'] = std['NIBRSDescription'].fillna('').astype(str)\n",
    "mapping['join_key'] = mapping['NIBRSDescription'].fillna('').astype(str)\n",
    "std = pd.merge(std, mapping, how='inner', on='join_key')\n",
    "std['city'] = 'Houston'\n",
    "std = std[['std_date', 'city', 'category_1', 'category_2', 'category_3']]\n",
    "\n",
    "std2 = pd.concat([std2, std], sort=True)\n",
    "std2.to_csv('standardized/standardized_incidents_houston.csv', index=False)\n",
    "print('Length:', len(std2))\n",
    "std2.head()"
   ]
  },
  {
   "cell_type": "markdown",
   "metadata": {},
   "source": [
    "# Portland"
   ]
  },
  {
   "cell_type": "code",
   "execution_count": 41,
   "metadata": {},
   "outputs": [],
   "source": [
    "city_name = 'Portland'\n",
    "file_name = 'portland'\n",
    "mapping_columns = ['OffenseType']\n",
    "\n",
    "date_col1 = 'OccurDate'\n",
    "date_format1 = '%m/%d/%Y'\n",
    "# date_col2 = \n",
    "# date_format2 = "
   ]
  },
  {
   "cell_type": "code",
   "execution_count": 42,
   "metadata": {},
   "outputs": [],
   "source": [
    "# Portland\n",
    "df = pd.DataFrame()\n",
    "\n",
    "# 2018\n",
    "tmp = pd.read_csv('raw/raw_incidents_portland/CrimeData-2018.csv')    \n",
    "df = pd.concat([df, tmp], sort=True)\n",
    "\n",
    "# 2019\n",
    "tmp = pd.read_csv('raw/raw_incidents_portland/CrimeData-2019.csv')    \n",
    "df = pd.concat([df, tmp], sort=True)\n",
    "\n",
    "# 2020\n",
    "tmp = pd.read_csv('raw/raw_incidents_portland/CrimeData-2020.csv')    \n",
    "df = pd.concat([df, tmp], sort=True)"
   ]
  },
  {
   "cell_type": "code",
   "execution_count": 43,
   "metadata": {},
   "outputs": [
    {
     "name": "stderr",
     "output_type": "stream",
     "text": [
      "<ipython-input-4-85053cd5aa92>:3: SettingWithCopyWarning: \n",
      "A value is trying to be set on a copy of a slice from a DataFrame.\n",
      "Try using .loc[row_indexer,col_indexer] = value instead\n",
      "\n",
      "See the caveats in the documentation: https://pandas.pydata.org/pandas-docs/stable/user_guide/indexing.html#returning-a-view-versus-a-copy\n",
      "  df['join_key'] = ''\n",
      "<ipython-input-4-85053cd5aa92>:6: SettingWithCopyWarning: \n",
      "A value is trying to be set on a copy of a slice from a DataFrame.\n",
      "Try using .loc[row_indexer,col_indexer] = value instead\n",
      "\n",
      "See the caveats in the documentation: https://pandas.pydata.org/pandas-docs/stable/user_guide/indexing.html#returning-a-view-versus-a-copy\n",
      "  df['join_key'] = df['join_key'] + df[key].fillna('').astype(str)\n"
     ]
    },
    {
     "name": "stdout",
     "output_type": "stream",
     "text": [
      "Dropout: (4436, 20)\n",
      "Length:  126745\n"
     ]
    },
    {
     "data": {
      "text/html": [
       "<div>\n",
       "<style scoped>\n",
       "    .dataframe tbody tr th:only-of-type {\n",
       "        vertical-align: middle;\n",
       "    }\n",
       "\n",
       "    .dataframe tbody tr th {\n",
       "        vertical-align: top;\n",
       "    }\n",
       "\n",
       "    .dataframe thead th {\n",
       "        text-align: right;\n",
       "    }\n",
       "</style>\n",
       "<table border=\"1\" class=\"dataframe\">\n",
       "  <thead>\n",
       "    <tr style=\"text-align: right;\">\n",
       "      <th></th>\n",
       "      <th>std_date</th>\n",
       "      <th>city</th>\n",
       "      <th>category_1</th>\n",
       "      <th>category_2</th>\n",
       "      <th>category_3</th>\n",
       "    </tr>\n",
       "  </thead>\n",
       "  <tbody>\n",
       "    <tr>\n",
       "      <th>0</th>\n",
       "      <td>2018-01-01</td>\n",
       "      <td>Portland</td>\n",
       "      <td>Violent</td>\n",
       "      <td>Assault</td>\n",
       "      <td>Simple Assault</td>\n",
       "    </tr>\n",
       "    <tr>\n",
       "      <th>1</th>\n",
       "      <td>2018-01-01</td>\n",
       "      <td>Portland</td>\n",
       "      <td>Violent</td>\n",
       "      <td>Assault</td>\n",
       "      <td>Simple Assault</td>\n",
       "    </tr>\n",
       "    <tr>\n",
       "      <th>2</th>\n",
       "      <td>2018-01-01</td>\n",
       "      <td>Portland</td>\n",
       "      <td>Violent</td>\n",
       "      <td>Assault</td>\n",
       "      <td>Simple Assault</td>\n",
       "    </tr>\n",
       "    <tr>\n",
       "      <th>3</th>\n",
       "      <td>2018-01-02</td>\n",
       "      <td>Portland</td>\n",
       "      <td>Violent</td>\n",
       "      <td>Assault</td>\n",
       "      <td>Simple Assault</td>\n",
       "    </tr>\n",
       "    <tr>\n",
       "      <th>4</th>\n",
       "      <td>2018-01-02</td>\n",
       "      <td>Portland</td>\n",
       "      <td>Violent</td>\n",
       "      <td>Assault</td>\n",
       "      <td>Simple Assault</td>\n",
       "    </tr>\n",
       "  </tbody>\n",
       "</table>\n",
       "</div>"
      ],
      "text/plain": [
       "     std_date      city category_1 category_2      category_3\n",
       "0  2018-01-01  Portland    Violent    Assault  Simple Assault\n",
       "1  2018-01-01  Portland    Violent    Assault  Simple Assault\n",
       "2  2018-01-01  Portland    Violent    Assault  Simple Assault\n",
       "3  2018-01-02  Portland    Violent    Assault  Simple Assault\n",
       "4  2018-01-02  Portland    Violent    Assault  Simple Assault"
      ]
     },
     "execution_count": 43,
     "metadata": {},
     "output_type": "execute_result"
    }
   ],
   "source": [
    "std = df\n",
    "std = standardize_datetime_one_arg(std, date_col1, date_format1)\n",
    "std = standardize_with_mapping(std, city_name, file_name, mapping_columns)\n",
    "std.head()"
   ]
  },
  {
   "cell_type": "markdown",
   "metadata": {},
   "source": [
    "# Denver"
   ]
  },
  {
   "cell_type": "code",
   "execution_count": 44,
   "metadata": {},
   "outputs": [],
   "source": [
    "city_name = 'Denver'\n",
    "file_name = 'denver'\n",
    "mapping_columns = ['OFFENSE_TYPE_ID', 'OFFENSE_CATEGORY_ID']\n",
    "\n",
    "date_col1 = 'FIRST_OCCURRENCE_DATE'\n",
    "date_format1 = '%m/%d/%Y %I:%M:%S %p'\n",
    "# date_col2 = \n",
    "# date_format2 = "
   ]
  },
  {
   "cell_type": "code",
   "execution_count": 45,
   "metadata": {},
   "outputs": [
    {
     "name": "stdout",
     "output_type": "stream",
     "text": [
      "Dropout: (106828, 26)\n",
      "Length:  94579\n"
     ]
    },
    {
     "data": {
      "text/html": [
       "<div>\n",
       "<style scoped>\n",
       "    .dataframe tbody tr th:only-of-type {\n",
       "        vertical-align: middle;\n",
       "    }\n",
       "\n",
       "    .dataframe tbody tr th {\n",
       "        vertical-align: top;\n",
       "    }\n",
       "\n",
       "    .dataframe thead th {\n",
       "        text-align: right;\n",
       "    }\n",
       "</style>\n",
       "<table border=\"1\" class=\"dataframe\">\n",
       "  <thead>\n",
       "    <tr style=\"text-align: right;\">\n",
       "      <th></th>\n",
       "      <th>std_date</th>\n",
       "      <th>city</th>\n",
       "      <th>category_1</th>\n",
       "      <th>category_2</th>\n",
       "      <th>category_3</th>\n",
       "    </tr>\n",
       "  </thead>\n",
       "  <tbody>\n",
       "    <tr>\n",
       "      <th>0</th>\n",
       "      <td>2019-11-20</td>\n",
       "      <td>Denver</td>\n",
       "      <td>Drug</td>\n",
       "      <td>Drug</td>\n",
       "      <td>Drug</td>\n",
       "    </tr>\n",
       "    <tr>\n",
       "      <th>1</th>\n",
       "      <td>2019-11-22</td>\n",
       "      <td>Denver</td>\n",
       "      <td>Drug</td>\n",
       "      <td>Drug</td>\n",
       "      <td>Drug</td>\n",
       "    </tr>\n",
       "    <tr>\n",
       "      <th>2</th>\n",
       "      <td>2019-09-27</td>\n",
       "      <td>Denver</td>\n",
       "      <td>Drug</td>\n",
       "      <td>Drug</td>\n",
       "      <td>Drug</td>\n",
       "    </tr>\n",
       "    <tr>\n",
       "      <th>3</th>\n",
       "      <td>2019-01-25</td>\n",
       "      <td>Denver</td>\n",
       "      <td>Drug</td>\n",
       "      <td>Drug</td>\n",
       "      <td>Drug</td>\n",
       "    </tr>\n",
       "    <tr>\n",
       "      <th>4</th>\n",
       "      <td>2018-11-16</td>\n",
       "      <td>Denver</td>\n",
       "      <td>Drug</td>\n",
       "      <td>Drug</td>\n",
       "      <td>Drug</td>\n",
       "    </tr>\n",
       "  </tbody>\n",
       "</table>\n",
       "</div>"
      ],
      "text/plain": [
       "     std_date    city category_1 category_2 category_3\n",
       "0  2019-11-20  Denver       Drug       Drug       Drug\n",
       "1  2019-11-22  Denver       Drug       Drug       Drug\n",
       "2  2019-09-27  Denver       Drug       Drug       Drug\n",
       "3  2019-01-25  Denver       Drug       Drug       Drug\n",
       "4  2018-11-16  Denver       Drug       Drug       Drug"
      ]
     },
     "execution_count": 45,
     "metadata": {},
     "output_type": "execute_result"
    }
   ],
   "source": [
    "std = pd.read_csv('raw/raw_incidents_' + file_name + '.csv', index_col=None, dtype=str)\n",
    "std = standardize_datetime_one_arg(std, date_col1, date_format1)\n",
    "std = standardize_with_mapping(std, city_name, file_name, mapping_columns)\n",
    "std.head()"
   ]
  },
  {
   "cell_type": "markdown",
   "metadata": {},
   "source": [
    "# Nashville"
   ]
  },
  {
   "cell_type": "code",
   "execution_count": 46,
   "metadata": {},
   "outputs": [],
   "source": [
    "city_name = 'Nashville'\n",
    "file_name = 'nashville'\n",
    "mapping_columns = ['offense_description']\n",
    "\n",
    "date_col1 = 'incident_occurred'\n",
    "date_format1 = '%Y-%m-%dT%H:%M:%S.%f'\n",
    "# date_col2 = \n",
    "# date_format2 = "
   ]
  },
  {
   "cell_type": "code",
   "execution_count": 47,
   "metadata": {},
   "outputs": [
    {
     "name": "stdout",
     "output_type": "stream",
     "text": [
      "Dropout: (93999, 37)\n",
      "Length:  160822\n"
     ]
    },
    {
     "data": {
      "text/html": [
       "<div>\n",
       "<style scoped>\n",
       "    .dataframe tbody tr th:only-of-type {\n",
       "        vertical-align: middle;\n",
       "    }\n",
       "\n",
       "    .dataframe tbody tr th {\n",
       "        vertical-align: top;\n",
       "    }\n",
       "\n",
       "    .dataframe thead th {\n",
       "        text-align: right;\n",
       "    }\n",
       "</style>\n",
       "<table border=\"1\" class=\"dataframe\">\n",
       "  <thead>\n",
       "    <tr style=\"text-align: right;\">\n",
       "      <th></th>\n",
       "      <th>std_date</th>\n",
       "      <th>city</th>\n",
       "      <th>category_1</th>\n",
       "      <th>category_2</th>\n",
       "      <th>category_3</th>\n",
       "    </tr>\n",
       "  </thead>\n",
       "  <tbody>\n",
       "    <tr>\n",
       "      <th>0</th>\n",
       "      <td>2020-03-05</td>\n",
       "      <td>Nashville</td>\n",
       "      <td>Property</td>\n",
       "      <td>Theft</td>\n",
       "      <td>Grand Larceny Auto</td>\n",
       "    </tr>\n",
       "    <tr>\n",
       "      <th>1</th>\n",
       "      <td>2018-07-07</td>\n",
       "      <td>Nashville</td>\n",
       "      <td>Property</td>\n",
       "      <td>Theft</td>\n",
       "      <td>Grand Larceny Auto</td>\n",
       "    </tr>\n",
       "    <tr>\n",
       "      <th>2</th>\n",
       "      <td>2018-07-19</td>\n",
       "      <td>Nashville</td>\n",
       "      <td>Property</td>\n",
       "      <td>Theft</td>\n",
       "      <td>Grand Larceny Auto</td>\n",
       "    </tr>\n",
       "    <tr>\n",
       "      <th>3</th>\n",
       "      <td>2019-10-31</td>\n",
       "      <td>Nashville</td>\n",
       "      <td>Property</td>\n",
       "      <td>Theft</td>\n",
       "      <td>Grand Larceny Auto</td>\n",
       "    </tr>\n",
       "    <tr>\n",
       "      <th>4</th>\n",
       "      <td>2018-04-25</td>\n",
       "      <td>Nashville</td>\n",
       "      <td>Property</td>\n",
       "      <td>Theft</td>\n",
       "      <td>Grand Larceny Auto</td>\n",
       "    </tr>\n",
       "  </tbody>\n",
       "</table>\n",
       "</div>"
      ],
      "text/plain": [
       "     std_date       city category_1 category_2          category_3\n",
       "0  2020-03-05  Nashville   Property      Theft  Grand Larceny Auto\n",
       "1  2018-07-07  Nashville   Property      Theft  Grand Larceny Auto\n",
       "2  2018-07-19  Nashville   Property      Theft  Grand Larceny Auto\n",
       "3  2019-10-31  Nashville   Property      Theft  Grand Larceny Auto\n",
       "4  2018-04-25  Nashville   Property      Theft  Grand Larceny Auto"
      ]
     },
     "execution_count": 47,
     "metadata": {},
     "output_type": "execute_result"
    }
   ],
   "source": [
    "std = pd.read_csv('raw/raw_incidents_' + file_name + '.csv', index_col=None, dtype=str)\n",
    "std = standardize_datetime_one_arg(std, date_col1, date_format1)\n",
    "std = standardize_with_mapping(std, city_name, file_name, mapping_columns)\n",
    "std.head()"
   ]
  },
  {
   "cell_type": "markdown",
   "metadata": {},
   "source": [
    "# Louisville"
   ]
  },
  {
   "cell_type": "code",
   "execution_count": 48,
   "metadata": {},
   "outputs": [],
   "source": [
    "city_name = 'Louisville'\n",
    "file_name = 'louisville'\n",
    "mapping_columns = ['CRIME_TYPE']\n",
    "\n",
    "date_col1 = 'DATE_OCCURED'\n",
    "date_format1 = '%Y-%m-%d %H:%M:%S'\n",
    "date_col2 = 'DATE_REPORTED'\n",
    "date_format2 = '%Y-%m-%d %H:%M:%S'"
   ]
  },
  {
   "cell_type": "code",
   "execution_count": 49,
   "metadata": {},
   "outputs": [
    {
     "name": "stderr",
     "output_type": "stream",
     "text": [
      "C:\\Users\\kooan\\anaconda3\\lib\\site-packages\\IPython\\core\\interactiveshell.py:3071: DtypeWarning: Columns (13) have mixed types.Specify dtype option on import or set low_memory=False.\n",
      "  has_raised = await self.run_ast_nodes(code_ast.body, cell_name,\n"
     ]
    }
   ],
   "source": [
    "# Louisville\n",
    "\n",
    "df = pd.DataFrame()\n",
    "\n",
    "# 2018\n",
    "tmp = pd.read_csv('raw/raw_incidents_louisville/Crime_Data_2018.csv')    \n",
    "df = pd.concat([df, tmp], sort=True)\n",
    "\n",
    "# 2019\n",
    "tmp = pd.read_csv('raw/raw_incidents_louisville/Crime_Data_2019.csv')    \n",
    "df = pd.concat([df, tmp], sort=True)"
   ]
  },
  {
   "cell_type": "code",
   "execution_count": 50,
   "metadata": {},
   "outputs": [
    {
     "name": "stderr",
     "output_type": "stream",
     "text": [
      "<ipython-input-4-85053cd5aa92>:3: SettingWithCopyWarning: \n",
      "A value is trying to be set on a copy of a slice from a DataFrame.\n",
      "Try using .loc[row_indexer,col_indexer] = value instead\n",
      "\n",
      "See the caveats in the documentation: https://pandas.pydata.org/pandas-docs/stable/user_guide/indexing.html#returning-a-view-versus-a-copy\n",
      "  df['join_key'] = ''\n",
      "<ipython-input-4-85053cd5aa92>:6: SettingWithCopyWarning: \n",
      "A value is trying to be set on a copy of a slice from a DataFrame.\n",
      "Try using .loc[row_indexer,col_indexer] = value instead\n",
      "\n",
      "See the caveats in the documentation: https://pandas.pydata.org/pandas-docs/stable/user_guide/indexing.html#returning-a-view-versus-a-copy\n",
      "  df['join_key'] = df['join_key'] + df[key].fillna('').astype(str)\n"
     ]
    },
    {
     "name": "stdout",
     "output_type": "stream",
     "text": [
      "Dropout: (22202, 21)\n",
      "Length:  143457\n"
     ]
    },
    {
     "data": {
      "text/html": [
       "<div>\n",
       "<style scoped>\n",
       "    .dataframe tbody tr th:only-of-type {\n",
       "        vertical-align: middle;\n",
       "    }\n",
       "\n",
       "    .dataframe tbody tr th {\n",
       "        vertical-align: top;\n",
       "    }\n",
       "\n",
       "    .dataframe thead th {\n",
       "        text-align: right;\n",
       "    }\n",
       "</style>\n",
       "<table border=\"1\" class=\"dataframe\">\n",
       "  <thead>\n",
       "    <tr style=\"text-align: right;\">\n",
       "      <th></th>\n",
       "      <th>std_date</th>\n",
       "      <th>city</th>\n",
       "      <th>category_1</th>\n",
       "      <th>category_2</th>\n",
       "      <th>category_3</th>\n",
       "    </tr>\n",
       "  </thead>\n",
       "  <tbody>\n",
       "    <tr>\n",
       "      <th>0</th>\n",
       "      <td>2018-03-13</td>\n",
       "      <td>Louisville</td>\n",
       "      <td>Property</td>\n",
       "      <td>Other Property Crime</td>\n",
       "      <td>Other Property Crime</td>\n",
       "    </tr>\n",
       "    <tr>\n",
       "      <th>1</th>\n",
       "      <td>2018-03-13</td>\n",
       "      <td>Louisville</td>\n",
       "      <td>Property</td>\n",
       "      <td>Other Property Crime</td>\n",
       "      <td>Other Property Crime</td>\n",
       "    </tr>\n",
       "    <tr>\n",
       "      <th>2</th>\n",
       "      <td>2018-03-13</td>\n",
       "      <td>Louisville</td>\n",
       "      <td>Property</td>\n",
       "      <td>Other Property Crime</td>\n",
       "      <td>Other Property Crime</td>\n",
       "    </tr>\n",
       "    <tr>\n",
       "      <th>3</th>\n",
       "      <td>2018-03-13</td>\n",
       "      <td>Louisville</td>\n",
       "      <td>Property</td>\n",
       "      <td>Other Property Crime</td>\n",
       "      <td>Other Property Crime</td>\n",
       "    </tr>\n",
       "    <tr>\n",
       "      <th>4</th>\n",
       "      <td>2018-03-13</td>\n",
       "      <td>Louisville</td>\n",
       "      <td>Property</td>\n",
       "      <td>Other Property Crime</td>\n",
       "      <td>Other Property Crime</td>\n",
       "    </tr>\n",
       "  </tbody>\n",
       "</table>\n",
       "</div>"
      ],
      "text/plain": [
       "     std_date        city category_1            category_2  \\\n",
       "0  2018-03-13  Louisville   Property  Other Property Crime   \n",
       "1  2018-03-13  Louisville   Property  Other Property Crime   \n",
       "2  2018-03-13  Louisville   Property  Other Property Crime   \n",
       "3  2018-03-13  Louisville   Property  Other Property Crime   \n",
       "4  2018-03-13  Louisville   Property  Other Property Crime   \n",
       "\n",
       "             category_3  \n",
       "0  Other Property Crime  \n",
       "1  Other Property Crime  \n",
       "2  Other Property Crime  \n",
       "3  Other Property Crime  \n",
       "4  Other Property Crime  "
      ]
     },
     "execution_count": 50,
     "metadata": {},
     "output_type": "execute_result"
    }
   ],
   "source": [
    "std = df\n",
    "std = standardize_datetime_two_args(std, date_col1, date_format1, date_col2, date_format2)\n",
    "std = standardize_with_mapping(std, city_name, file_name, mapping_columns)\n",
    "std.head()"
   ]
  },
  {
   "cell_type": "markdown",
   "metadata": {},
   "source": [
    "# Kansas City"
   ]
  },
  {
   "cell_type": "code",
   "execution_count": 51,
   "metadata": {},
   "outputs": [],
   "source": [
    "city_name = 'Kansas City'\n",
    "file_name = 'kansas_city'\n",
    "mapping_columns = ['offense']\n",
    "\n",
    "date_col1 = 'from_date'\n",
    "date_format1 = '%Y-%m-%dT%H:%M:%S.%f'\n",
    "date_col2 = 'reported_date'\n",
    "date_format2 = '%Y-%m-%dT%H:%M:%S.%f'"
   ]
  },
  {
   "cell_type": "code",
   "execution_count": 52,
   "metadata": {},
   "outputs": [
    {
     "name": "stdout",
     "output_type": "stream",
     "text": [
      "Dropout: (73598, 33)\n",
      "Length:  177585\n"
     ]
    },
    {
     "data": {
      "text/html": [
       "<div>\n",
       "<style scoped>\n",
       "    .dataframe tbody tr th:only-of-type {\n",
       "        vertical-align: middle;\n",
       "    }\n",
       "\n",
       "    .dataframe tbody tr th {\n",
       "        vertical-align: top;\n",
       "    }\n",
       "\n",
       "    .dataframe thead th {\n",
       "        text-align: right;\n",
       "    }\n",
       "</style>\n",
       "<table border=\"1\" class=\"dataframe\">\n",
       "  <thead>\n",
       "    <tr style=\"text-align: right;\">\n",
       "      <th></th>\n",
       "      <th>std_date</th>\n",
       "      <th>city</th>\n",
       "      <th>category_1</th>\n",
       "      <th>category_2</th>\n",
       "      <th>category_3</th>\n",
       "    </tr>\n",
       "  </thead>\n",
       "  <tbody>\n",
       "    <tr>\n",
       "      <th>0</th>\n",
       "      <td>2020-01-01</td>\n",
       "      <td>Kansas City</td>\n",
       "      <td>Violent</td>\n",
       "      <td>Robbery</td>\n",
       "      <td>Robbery</td>\n",
       "    </tr>\n",
       "    <tr>\n",
       "      <th>1</th>\n",
       "      <td>2020-01-01</td>\n",
       "      <td>Kansas City</td>\n",
       "      <td>Violent</td>\n",
       "      <td>Robbery</td>\n",
       "      <td>Robbery</td>\n",
       "    </tr>\n",
       "    <tr>\n",
       "      <th>2</th>\n",
       "      <td>2020-01-06</td>\n",
       "      <td>Kansas City</td>\n",
       "      <td>Violent</td>\n",
       "      <td>Robbery</td>\n",
       "      <td>Robbery</td>\n",
       "    </tr>\n",
       "    <tr>\n",
       "      <th>3</th>\n",
       "      <td>2020-01-06</td>\n",
       "      <td>Kansas City</td>\n",
       "      <td>Violent</td>\n",
       "      <td>Robbery</td>\n",
       "      <td>Robbery</td>\n",
       "    </tr>\n",
       "    <tr>\n",
       "      <th>4</th>\n",
       "      <td>2020-02-07</td>\n",
       "      <td>Kansas City</td>\n",
       "      <td>Violent</td>\n",
       "      <td>Robbery</td>\n",
       "      <td>Robbery</td>\n",
       "    </tr>\n",
       "  </tbody>\n",
       "</table>\n",
       "</div>"
      ],
      "text/plain": [
       "     std_date         city category_1 category_2 category_3\n",
       "0  2020-01-01  Kansas City    Violent    Robbery    Robbery\n",
       "1  2020-01-01  Kansas City    Violent    Robbery    Robbery\n",
       "2  2020-01-06  Kansas City    Violent    Robbery    Robbery\n",
       "3  2020-01-06  Kansas City    Violent    Robbery    Robbery\n",
       "4  2020-02-07  Kansas City    Violent    Robbery    Robbery"
      ]
     },
     "execution_count": 52,
     "metadata": {},
     "output_type": "execute_result"
    }
   ],
   "source": [
    "std = pd.read_csv('raw/raw_incidents_' + file_name + '.csv', index_col=None, dtype=str)\n",
    "std = standardize_datetime_two_args(std, date_col1, date_format1, date_col2, date_format2)\n",
    "std = standardize_with_mapping(std, city_name, file_name, mapping_columns)\n",
    "std.head()"
   ]
  },
  {
   "cell_type": "markdown",
   "metadata": {},
   "source": [
    "# Raleigh"
   ]
  },
  {
   "cell_type": "code",
   "execution_count": 53,
   "metadata": {},
   "outputs": [],
   "source": [
    "city_name = 'Raleigh'\n",
    "file_name = 'raleigh'\n",
    "mapping_columns = ['crime_description']\n",
    "\n",
    "date_col1 = 'reported_date'\n",
    "date_format1 = '%Y/%m/%d %H:%M:%S+%f'\n",
    "# date_col2 = \n",
    "# date_format2 = "
   ]
  },
  {
   "cell_type": "code",
   "execution_count": 54,
   "metadata": {},
   "outputs": [
    {
     "name": "stdout",
     "output_type": "stream",
     "text": [
      "Dropout: (42743, 29)\n",
      "Length:  68199\n"
     ]
    },
    {
     "data": {
      "text/html": [
       "<div>\n",
       "<style scoped>\n",
       "    .dataframe tbody tr th:only-of-type {\n",
       "        vertical-align: middle;\n",
       "    }\n",
       "\n",
       "    .dataframe tbody tr th {\n",
       "        vertical-align: top;\n",
       "    }\n",
       "\n",
       "    .dataframe thead th {\n",
       "        text-align: right;\n",
       "    }\n",
       "</style>\n",
       "<table border=\"1\" class=\"dataframe\">\n",
       "  <thead>\n",
       "    <tr style=\"text-align: right;\">\n",
       "      <th></th>\n",
       "      <th>std_date</th>\n",
       "      <th>city</th>\n",
       "      <th>category_1</th>\n",
       "      <th>category_2</th>\n",
       "      <th>category_3</th>\n",
       "    </tr>\n",
       "  </thead>\n",
       "  <tbody>\n",
       "    <tr>\n",
       "      <th>0</th>\n",
       "      <td>2018-02-17</td>\n",
       "      <td>Raleigh</td>\n",
       "      <td>Violent</td>\n",
       "      <td>Rape</td>\n",
       "      <td>Rape</td>\n",
       "    </tr>\n",
       "    <tr>\n",
       "      <th>1</th>\n",
       "      <td>2018-02-18</td>\n",
       "      <td>Raleigh</td>\n",
       "      <td>Violent</td>\n",
       "      <td>Rape</td>\n",
       "      <td>Rape</td>\n",
       "    </tr>\n",
       "    <tr>\n",
       "      <th>2</th>\n",
       "      <td>2018-01-21</td>\n",
       "      <td>Raleigh</td>\n",
       "      <td>Violent</td>\n",
       "      <td>Rape</td>\n",
       "      <td>Rape</td>\n",
       "    </tr>\n",
       "    <tr>\n",
       "      <th>3</th>\n",
       "      <td>2018-02-01</td>\n",
       "      <td>Raleigh</td>\n",
       "      <td>Violent</td>\n",
       "      <td>Rape</td>\n",
       "      <td>Rape</td>\n",
       "    </tr>\n",
       "    <tr>\n",
       "      <th>4</th>\n",
       "      <td>2018-02-18</td>\n",
       "      <td>Raleigh</td>\n",
       "      <td>Violent</td>\n",
       "      <td>Rape</td>\n",
       "      <td>Rape</td>\n",
       "    </tr>\n",
       "  </tbody>\n",
       "</table>\n",
       "</div>"
      ],
      "text/plain": [
       "     std_date     city category_1 category_2 category_3\n",
       "0  2018-02-17  Raleigh    Violent       Rape       Rape\n",
       "1  2018-02-18  Raleigh    Violent       Rape       Rape\n",
       "2  2018-01-21  Raleigh    Violent       Rape       Rape\n",
       "3  2018-02-01  Raleigh    Violent       Rape       Rape\n",
       "4  2018-02-18  Raleigh    Violent       Rape       Rape"
      ]
     },
     "execution_count": 54,
     "metadata": {},
     "output_type": "execute_result"
    }
   ],
   "source": [
    "std = pd.read_csv('raw/raw_incidents_' + file_name + '.csv', index_col=None, dtype=str)\n",
    "std = standardize_datetime_one_arg(std, date_col1, date_format1)\n",
    "std = standardize_with_mapping(std, city_name, file_name, mapping_columns)\n",
    "std.head()\n"
   ]
  },
  {
   "cell_type": "markdown",
   "metadata": {},
   "source": [
    "# Buffalo"
   ]
  },
  {
   "cell_type": "code",
   "execution_count": 55,
   "metadata": {},
   "outputs": [],
   "source": [
    "city_name = 'Buffalo'\n",
    "file_name = 'buffalo'\n",
    "mapping_columns = ['incident_type_primary']\n",
    "\n",
    "date_col1 = 'incident_datetime'\n",
    "date_format1 = '%Y-%m-%dT%H:%M:%S.%f'\n",
    "# date_col2 = \n",
    "# date_format2 = "
   ]
  },
  {
   "cell_type": "code",
   "execution_count": 56,
   "metadata": {},
   "outputs": [
    {
     "name": "stdout",
     "output_type": "stream",
     "text": [
      "Dropout: (369, 37)\n",
      "Length:  31283\n"
     ]
    },
    {
     "data": {
      "text/html": [
       "<div>\n",
       "<style scoped>\n",
       "    .dataframe tbody tr th:only-of-type {\n",
       "        vertical-align: middle;\n",
       "    }\n",
       "\n",
       "    .dataframe tbody tr th {\n",
       "        vertical-align: top;\n",
       "    }\n",
       "\n",
       "    .dataframe thead th {\n",
       "        text-align: right;\n",
       "    }\n",
       "</style>\n",
       "<table border=\"1\" class=\"dataframe\">\n",
       "  <thead>\n",
       "    <tr style=\"text-align: right;\">\n",
       "      <th></th>\n",
       "      <th>std_date</th>\n",
       "      <th>city</th>\n",
       "      <th>category_1</th>\n",
       "      <th>category_2</th>\n",
       "      <th>category_3</th>\n",
       "    </tr>\n",
       "  </thead>\n",
       "  <tbody>\n",
       "    <tr>\n",
       "      <th>0</th>\n",
       "      <td>2020-01-05</td>\n",
       "      <td>Buffalo</td>\n",
       "      <td>Property</td>\n",
       "      <td>Theft</td>\n",
       "      <td>Unclassified</td>\n",
       "    </tr>\n",
       "    <tr>\n",
       "      <th>1</th>\n",
       "      <td>2020-01-04</td>\n",
       "      <td>Buffalo</td>\n",
       "      <td>Property</td>\n",
       "      <td>Theft</td>\n",
       "      <td>Unclassified</td>\n",
       "    </tr>\n",
       "    <tr>\n",
       "      <th>2</th>\n",
       "      <td>2020-01-05</td>\n",
       "      <td>Buffalo</td>\n",
       "      <td>Property</td>\n",
       "      <td>Theft</td>\n",
       "      <td>Unclassified</td>\n",
       "    </tr>\n",
       "    <tr>\n",
       "      <th>3</th>\n",
       "      <td>2020-01-05</td>\n",
       "      <td>Buffalo</td>\n",
       "      <td>Property</td>\n",
       "      <td>Theft</td>\n",
       "      <td>Unclassified</td>\n",
       "    </tr>\n",
       "    <tr>\n",
       "      <th>4</th>\n",
       "      <td>2020-01-04</td>\n",
       "      <td>Buffalo</td>\n",
       "      <td>Property</td>\n",
       "      <td>Theft</td>\n",
       "      <td>Unclassified</td>\n",
       "    </tr>\n",
       "  </tbody>\n",
       "</table>\n",
       "</div>"
      ],
      "text/plain": [
       "     std_date     city category_1 category_2    category_3\n",
       "0  2020-01-05  Buffalo   Property      Theft  Unclassified\n",
       "1  2020-01-04  Buffalo   Property      Theft  Unclassified\n",
       "2  2020-01-05  Buffalo   Property      Theft  Unclassified\n",
       "3  2020-01-05  Buffalo   Property      Theft  Unclassified\n",
       "4  2020-01-04  Buffalo   Property      Theft  Unclassified"
      ]
     },
     "execution_count": 56,
     "metadata": {},
     "output_type": "execute_result"
    }
   ],
   "source": [
    "std = pd.read_csv('raw/raw_incidents_' + file_name + '.csv', index_col=None, dtype=str)\n",
    "std = standardize_datetime_one_arg(std, date_col1, date_format1)\n",
    "std = standardize_with_mapping(std, city_name, file_name, mapping_columns)\n",
    "std.head()"
   ]
  },
  {
   "cell_type": "markdown",
   "metadata": {},
   "source": [
    "# Virginia Beach"
   ]
  },
  {
   "cell_type": "code",
   "execution_count": 57,
   "metadata": {},
   "outputs": [],
   "source": [
    "city_name = 'Virginia Beach'\n",
    "file_name = 'virginia_beach'\n",
    "mapping_columns = ['Offense Description']\n",
    "\n",
    "date_col1 = 'Date Occured'\n",
    "date_format1 = '%Y-%m-%d %H:%M:%S'\n",
    "# date_col2 = \n",
    "# date_format2 = "
   ]
  },
  {
   "cell_type": "code",
   "execution_count": 58,
   "metadata": {},
   "outputs": [
    {
     "name": "stdout",
     "output_type": "stream",
     "text": [
      "Dropout: (13601, 19)\n",
      "Length:  48036\n"
     ]
    },
    {
     "data": {
      "text/html": [
       "<div>\n",
       "<style scoped>\n",
       "    .dataframe tbody tr th:only-of-type {\n",
       "        vertical-align: middle;\n",
       "    }\n",
       "\n",
       "    .dataframe tbody tr th {\n",
       "        vertical-align: top;\n",
       "    }\n",
       "\n",
       "    .dataframe thead th {\n",
       "        text-align: right;\n",
       "    }\n",
       "</style>\n",
       "<table border=\"1\" class=\"dataframe\">\n",
       "  <thead>\n",
       "    <tr style=\"text-align: right;\">\n",
       "      <th></th>\n",
       "      <th>std_date</th>\n",
       "      <th>city</th>\n",
       "      <th>category_1</th>\n",
       "      <th>category_2</th>\n",
       "      <th>category_3</th>\n",
       "    </tr>\n",
       "  </thead>\n",
       "  <tbody>\n",
       "    <tr>\n",
       "      <th>0</th>\n",
       "      <td>2019-10-18</td>\n",
       "      <td>Virginia Beach</td>\n",
       "      <td>Property</td>\n",
       "      <td>Theft</td>\n",
       "      <td>Theft from Auto</td>\n",
       "    </tr>\n",
       "    <tr>\n",
       "      <th>1</th>\n",
       "      <td>2018-01-01</td>\n",
       "      <td>Virginia Beach</td>\n",
       "      <td>Property</td>\n",
       "      <td>Theft</td>\n",
       "      <td>Theft from Auto</td>\n",
       "    </tr>\n",
       "    <tr>\n",
       "      <th>2</th>\n",
       "      <td>2018-01-01</td>\n",
       "      <td>Virginia Beach</td>\n",
       "      <td>Property</td>\n",
       "      <td>Theft</td>\n",
       "      <td>Theft from Auto</td>\n",
       "    </tr>\n",
       "    <tr>\n",
       "      <th>3</th>\n",
       "      <td>2018-01-01</td>\n",
       "      <td>Virginia Beach</td>\n",
       "      <td>Property</td>\n",
       "      <td>Theft</td>\n",
       "      <td>Theft from Auto</td>\n",
       "    </tr>\n",
       "    <tr>\n",
       "      <th>4</th>\n",
       "      <td>2018-01-01</td>\n",
       "      <td>Virginia Beach</td>\n",
       "      <td>Property</td>\n",
       "      <td>Theft</td>\n",
       "      <td>Theft from Auto</td>\n",
       "    </tr>\n",
       "  </tbody>\n",
       "</table>\n",
       "</div>"
      ],
      "text/plain": [
       "     std_date            city category_1 category_2       category_3\n",
       "0  2019-10-18  Virginia Beach   Property      Theft  Theft from Auto\n",
       "1  2018-01-01  Virginia Beach   Property      Theft  Theft from Auto\n",
       "2  2018-01-01  Virginia Beach   Property      Theft  Theft from Auto\n",
       "3  2018-01-01  Virginia Beach   Property      Theft  Theft from Auto\n",
       "4  2018-01-01  Virginia Beach   Property      Theft  Theft from Auto"
      ]
     },
     "execution_count": 58,
     "metadata": {},
     "output_type": "execute_result"
    }
   ],
   "source": [
    "std = pd.read_csv('raw/raw_incidents_' + file_name + '.csv', index_col=None, dtype=str)\n",
    "std = standardize_datetime_one_arg(std, date_col1, date_format1)\n",
    "std = standardize_with_mapping(std, city_name, file_name, mapping_columns)\n",
    "std.head()"
   ]
  },
  {
   "cell_type": "markdown",
   "metadata": {},
   "source": [
    "# Little Rock"
   ]
  },
  {
   "cell_type": "code",
   "execution_count": 59,
   "metadata": {},
   "outputs": [],
   "source": [
    "city_name = 'Little Rock'\n",
    "file_name = 'little_rock'\n",
    "mapping_columns = ['offense_description']\n",
    "\n",
    "date_col1 = 'incident_date'\n",
    "date_format1 = '%Y-%m-%dT%H:%M:%S.%f'\n",
    "# date_col2 = \n",
    "# date_format2 = "
   ]
  },
  {
   "cell_type": "code",
   "execution_count": 60,
   "metadata": {},
   "outputs": [
    {
     "name": "stdout",
     "output_type": "stream",
     "text": [
      "Dropout: (0, 31)\n",
      "Length:  33900\n"
     ]
    },
    {
     "data": {
      "text/html": [
       "<div>\n",
       "<style scoped>\n",
       "    .dataframe tbody tr th:only-of-type {\n",
       "        vertical-align: middle;\n",
       "    }\n",
       "\n",
       "    .dataframe tbody tr th {\n",
       "        vertical-align: top;\n",
       "    }\n",
       "\n",
       "    .dataframe thead th {\n",
       "        text-align: right;\n",
       "    }\n",
       "</style>\n",
       "<table border=\"1\" class=\"dataframe\">\n",
       "  <thead>\n",
       "    <tr style=\"text-align: right;\">\n",
       "      <th></th>\n",
       "      <th>std_date</th>\n",
       "      <th>city</th>\n",
       "      <th>category_1</th>\n",
       "      <th>category_2</th>\n",
       "      <th>category_3</th>\n",
       "    </tr>\n",
       "  </thead>\n",
       "  <tbody>\n",
       "    <tr>\n",
       "      <th>0</th>\n",
       "      <td>2018-01-07</td>\n",
       "      <td>Little Rock</td>\n",
       "      <td>Violent</td>\n",
       "      <td>Rape</td>\n",
       "      <td>Rape</td>\n",
       "    </tr>\n",
       "    <tr>\n",
       "      <th>1</th>\n",
       "      <td>2018-01-08</td>\n",
       "      <td>Little Rock</td>\n",
       "      <td>Violent</td>\n",
       "      <td>Rape</td>\n",
       "      <td>Rape</td>\n",
       "    </tr>\n",
       "    <tr>\n",
       "      <th>2</th>\n",
       "      <td>2018-01-14</td>\n",
       "      <td>Little Rock</td>\n",
       "      <td>Violent</td>\n",
       "      <td>Rape</td>\n",
       "      <td>Rape</td>\n",
       "    </tr>\n",
       "    <tr>\n",
       "      <th>3</th>\n",
       "      <td>2018-01-17</td>\n",
       "      <td>Little Rock</td>\n",
       "      <td>Violent</td>\n",
       "      <td>Rape</td>\n",
       "      <td>Rape</td>\n",
       "    </tr>\n",
       "    <tr>\n",
       "      <th>4</th>\n",
       "      <td>2018-01-22</td>\n",
       "      <td>Little Rock</td>\n",
       "      <td>Violent</td>\n",
       "      <td>Rape</td>\n",
       "      <td>Rape</td>\n",
       "    </tr>\n",
       "  </tbody>\n",
       "</table>\n",
       "</div>"
      ],
      "text/plain": [
       "     std_date         city category_1 category_2 category_3\n",
       "0  2018-01-07  Little Rock    Violent       Rape       Rape\n",
       "1  2018-01-08  Little Rock    Violent       Rape       Rape\n",
       "2  2018-01-14  Little Rock    Violent       Rape       Rape\n",
       "3  2018-01-17  Little Rock    Violent       Rape       Rape\n",
       "4  2018-01-22  Little Rock    Violent       Rape       Rape"
      ]
     },
     "execution_count": 60,
     "metadata": {},
     "output_type": "execute_result"
    }
   ],
   "source": [
    "std = pd.read_csv('raw/raw_incidents_' + file_name + '.csv', index_col=None, dtype=str)\n",
    "std = standardize_datetime_one_arg(std, date_col1, date_format1)\n",
    "std = standardize_with_mapping(std, city_name, file_name, mapping_columns)\n",
    "std.head()"
   ]
  },
  {
   "cell_type": "code",
   "execution_count": null,
   "metadata": {},
   "outputs": [],
   "source": []
  },
  {
   "cell_type": "code",
   "execution_count": null,
   "metadata": {},
   "outputs": [],
   "source": []
  },
  {
   "cell_type": "code",
   "execution_count": null,
   "metadata": {},
   "outputs": [],
   "source": []
  }
 ],
 "metadata": {
  "kernelspec": {
   "display_name": "Python 3",
   "language": "python",
   "name": "python3"
  },
  "language_info": {
   "codemirror_mode": {
    "name": "ipython",
    "version": 3
   },
   "file_extension": ".py",
   "mimetype": "text/x-python",
   "name": "python",
   "nbconvert_exporter": "python",
   "pygments_lexer": "ipython3",
   "version": "3.8.3"
  }
 },
 "nbformat": 4,
 "nbformat_minor": 4
}
